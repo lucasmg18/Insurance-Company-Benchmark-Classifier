{
  "nbformat": 4,
  "nbformat_minor": 0,
  "metadata": {
    "colab": {
      "provenance": []
    },
    "kernelspec": {
      "name": "python3",
      "display_name": "Python 3"
    },
    "language_info": {
      "name": "python"
    }
  },
  "cells": [
    {
      "cell_type": "markdown",
      "source": [
        "# Insurance Company Benchmark CLasificador"
      ],
      "metadata": {
        "id": "XmFh-p4Q73AK"
      }
    },
    {
      "cell_type": "markdown",
      "source": [
        ">Librerías que se van a utilizar:"
      ],
      "metadata": {
        "id": "i3s68kABkIOt"
      }
    },
    {
      "cell_type": "code",
      "source": [
        "import numpy as np\n",
        "import pandas as pd\n",
        "import matplotlib.pyplot as plt\n",
        "from sklearn.preprocessing import OneHotEncoder\n",
        "from sklearn.linear_model import SGDClassifier\n",
        "from sklearn.model_selection import cross_validate, StratifiedKFold\n",
        "from sklearn.metrics import accuracy_score, precision_score, recall_score,confusion_matrix, make_scorer, f1_score, log_loss, hinge_loss\n",
        "from sklearn.preprocessing import MinMaxScaler, StandardScaler\n",
        "from sklearn.svm import SVC\n",
        "import warnings\n",
        "from sklearn.exceptions import ConvergenceWarning"
      ],
      "metadata": {
        "id": "dWdFcdhakDXf"
      },
      "execution_count": null,
      "outputs": []
    },
    {
      "cell_type": "markdown",
      "source": [
        "Ejecutar completamente este documento no es instantáneo, lleva algunos minutos, entorno a 5 minutos, pero siempre termina de ejecutarse, no se queda de forma indefinida y siempre termina mucho antes de llegar a los 10 minutos."
      ],
      "metadata": {
        "id": "if79I1ixuy4G"
      }
    },
    {
      "cell_type": "markdown",
      "source": [
        "#### <font color='blue'>1)  Analizar y describir adecuadamente el problema a resolver. Identificar los elementos $X$, $Y$ and $f$ del problema, y describirlos en detalle. 0.5 puntos."
      ],
      "metadata": {
        "id": "Y2HSMffMUP10"
      }
    },
    {
      "cell_type": "markdown",
      "source": [
        "Este problema de clasificación binaria se trata de, a partir de las muestras de entrenamiento y test obtenidas de una base de datos proporcionada, donde cada muestra contiene información sobre un cliente de la compañia de seguros, se busca aprender una función $g$ que clasifique cada muestra como poseedor de una poliza de seguros de Caravana o no poseedor de una poliza de Caravana (El problema originalmente consistía en estimar el número de polizas de Caravana de cada muestra y ha sido modificado a estimar si tiene 1 o 0 polizas debido a las características de la salida de la base de datos).\n",
        "   \n",
        "Cada muestra posee 85 atributos, cada uno representando un dato del cliente, y una etiqueta representando si tiene o no poliza de Caravana. Por lo tanto cada muestra $n$ se identificará como un vector $x_n$ con 85 valores que son todos números y tiene una etiqueta asociada representada por un valor $y \\in \\{0,1\\}$, con $0$ para representar que no tiene poliza y $1$ para representar que tiene una poliza. Entonces $X$ será el vector de muestras $x_n$ y el elemento $Y$ será el vector de etiquetas $y$.\n",
        "  \n",
        "Para aprender la función $g$ se empleará un algoritmo de aprendizaje automático que utilice el conjunto de entrenamiento para ajustar el vector $w$ de prámetros (pesos) del modelo (sobre una clase de funciones $\\mathcal{H}$), minimizando el error asociado al algoritmo de las soluciones calculadas. Como resultado de aplicar el algoritmo al problema, obtendremos una función $g$ solución que para cualquier muestra $x$ del espacio total de las posibles muestras, nos proporcione una etiqueta $y$ que será la predicción de la clasificación de la muestra. Finalmente se utilizará el conjunto de muestras de test para evaluar el error fuera de la muestra de entrenamiento.   \n",
        "\n",
        "Durante el proceso de aprendizaje el conjunto de datos puede modificarse, tratando de no afectar la importancia e información que ofrecen los datos, para obtener mejores resultados a la hora de aplicar los algorimtos de aprendizaje automático que utilicemos para encontrar el mejor clasificador para el problema."
      ],
      "metadata": {
        "id": "CEpiie784Ku0"
      }
    },
    {
      "cell_type": "markdown",
      "source": [
        "Todas las variables del conjunto de datos son:\n",
        "\n",
        "| Nr | Name    | Description                                   |\n",
        "|----|---------|-----------------------------------------------|\n",
        "| 1  | MOSTYPE | Customer Subtype see L0                       |\n",
        "| 2  | MAANTHUI | Number of houses 1 – 10                       |\n",
        "| 3  | MGEMOMV  | Avg size household 1 – 6                       |\n",
        "| 4  | MGEMLEEF | Avg age see L1                                 |\n",
        "| 5  | MOSHOOFD | Customer main type see L2                      |\n",
        "| 6  | MGODRK  | Roman catholic see L3                          |\n",
        "| 7  | MGODPR  | Protestant ...                                 |\n",
        "| 8  | MGODOV  | Other religion                                 |\n",
        "| 9  | MGODGE  | No religion                                    |\n",
        "| 10 | MRELGE  | Married                                        |\n",
        "| 11 | MRELSA  | Living together                                |\n",
        "| 12 | MRELOV  | Other relation                                 |\n",
        "| 13 | MFALLEEN | Singles                                        |\n",
        "| 14 | MFGEKIND | Household without children                     |\n",
        "| 15 | MFWEKIND | Household with children                        |\n",
        "| 16 | MOPLHOOG | High level education                           |\n",
        "| 17 | MOPLMIDD | Medium level education                         |\n",
        "| 18 | MOPLLAAG | Lower level education                          |\n",
        "| 19 | MBERHOOG | High status                                    |\n",
        "| 20 | MBERZELF | Entrepreneur                                   |\n",
        "| 21 | MBERBOER | Farmer                                         |\n",
        "| 22 | MBERMIDD | Middle management                              |\n",
        "| 23 | MBERARBG | Skilled labourers                              |\n",
        "| 24 | MBERARBO | Unskilled labourers                            |\n",
        "| 25 | MSKA    | Social class A                                 |\n",
        "| 26 | MSKB1   | Social class B1                                |\n",
        "| 27 | MSKB2   | Social class B2                                |\n",
        "| 28 | MSKC    | Social class C                                 |\n",
        "| 29 | MSKD    | Social class D                                 |\n",
        "| 30 | MHHUUR  | Rented house                                   |\n",
        "| 31 | MHKOOP  | Home owners                                    |\n",
        "| 32 | MAUT1   | 1 car                                          |\n",
        "| 33 | MAUT2   | 2 cars                                         |\n",
        "| 34 | MAUT0   | No car                                         |\n",
        "| 35 | MZFONDS | National Health Service                        |\n",
        "| 36 | MZPART  | Private health insurance                       |\n",
        "| 37 | MINKM30 | Income < 30.000                                |\n",
        "| 38 | MINK3045 | Income 30-45.000                               |\n",
        "| 39 | MINK4575 | Income 45-75.000                               |\n",
        "| 40 | MINK7512 | Income 75-122.000                              |\n",
        "| 41 | MINK123M | Income >123.000                                |\n",
        "| 42 | MINKGEM | Average income                                 |\n",
        "| 43 | MKOOPKLA | Purchasing power class                         |\n",
        "| 44 | PWAPART | Contribution private third party insurance L4  |\n",
        "| 45 | PWABEDR | Contribution third party insurance (firms) ... |\n",
        "| 46 | PWALAND | Contribution third party insurane (agriculture)|\n",
        "| 47 | PPERSAUT | Contribution car policies                      |\n",
        "| 48 | PBESAUT | Contribution delivery van policies             |\n",
        "| 49 | PMOTSCO | Contribution motorcycle/scooter policies       |\n",
        "| 50 | PVRAAUT | Contribution lorry policies                    |\n",
        "| 51 | PAANHANG | Contribution trailer policies                  |\n",
        "| 52 | PTRACTOR | Contribution tractor policies                  |\n",
        "| 53 | PWERKT  | Contribution agricultural machines policies    |\n",
        "| 54 | PBROM   | Contribution moped policies                    |\n",
        "| 55 | PLEVEN  | Contribution life insurances                   |\n",
        "| 56 | PPERSONG | Contribution private accident insurance policies |\n",
        "| 57 | PGEZONG  | Contribution family accidents insurance policies |\n",
        "| 58 | PWAOREG  | Contribution disability insurance policies     |\n",
        "| 59 | PBRAND  | Contribution fire policies                     |\n",
        "| 60 | PZEILPL | Contribution surfboard policies                |\n",
        "| 61 | PPLEZIER | Contribution boat policies                     |\n",
        "| 62 | PFIETS  | Contribution bicycle policies                  |\n",
        "| 63 | PINBOED | Contribution property insurance policies       |\n",
        "| 64 | PBYSTAND | Contribution social security insurance policies|\n",
        "| 65 | AWAPART | Number of private third party insurance 1 - 12 |\n",
        "| 66 | AWABEDR | Number of third party insurance (firms) ...    |\n",
        "| 67 | AWALAND | Number of third party insurane (agriculture)   |\n",
        "| 68 | APERSAUT | Number of car policies                         |\n",
        "| 69 | ABESAUT | Number of delivery van policies                |\n",
        "| 70 | AMOTSCO | Number of motorcycle/scooter policies          |\n",
        "| 71 | AVRAAUT | Number of lorry policies                       |\n",
        "| 72 | AAANHANG | Number of trailer policies                     |\n",
        "| 73 | ATRACTOR | Number of tractor policies                     |\n",
        "| 74 | AWERKT  | Number of agricultural machines policies       |\n",
        "| 75 | ABROM   | Number of moped policies                       |\n",
        "| 76 | ALEVEN  | Number of life insurances                      |\n",
        "| 77 | APERSONG | Number of private accident insurance policies  |\n",
        "| 78 | AGEZONG  | Number of family accidents insurance policies  |\n",
        "| 79 | AWAOREG  | Number of disability insurance policies        |\n",
        "| 80 | ABRAND  | Number of fire policies                        |\n",
        "| 81 | AZEILPL | Number of surfboard policies                    |\n",
        "| 82 | APLEZIER | Number of boat policies                         |\n",
        "| 83 | AFIETS  | Number of bicycle policies                      |\n",
        "| 84 | AINBOED | Number of property insurance policies           |\n",
        "| 85 | ABYSTAND | Number of social security insurance policies    |\n",
        "| 86 | CARAVAN | Number of mobile home policies 0 - 1            |\n",
        "\n",
        "\n",
        "\n",
        "| L0 | Value Label                         |\n",
        "|----|------------------------------------|\n",
        "| 1  | High Income, expensive child        |\n",
        "| 2  | Very Important Provincials          |\n",
        "| 3  | High status seniors                 |\n",
        "| 4  | Affluent senior apartments          |\n",
        "| 5  | Mixed seniors                       |\n",
        "| 6  | Career and childcare                |\n",
        "| 7  | Dinki's (double income no kids)     |\n",
        "| 8  | Middle class families               |\n",
        "| 9  | Modern, complete families           |\n",
        "| 10 | Stable family                       |\n",
        "| 11 | Family starters                     |\n",
        "| 12 | Affluent young families             |\n",
        "| 13 | Young all american family           |\n",
        "| 14 | Junior cosmopolitan                 |\n",
        "| 15 | Senior cosmopolitans                |\n",
        "| 16 | Students in apartments              |\n",
        "| 17 | Fresh masters in the city           |\n",
        "| 18 | Single youth                        |\n",
        "| 19 | Suburban youth                       |\n",
        "| 20 | Ethnically diverse                  |\n",
        "| 21 | Young urban have-nots               |\n",
        "| 22 | Mixed apartment dwellers             |\n",
        "| 23 | Young and rising                    |\n",
        "| 24 | Young, low educated                  |\n",
        "| 25 | Young seniors in the city           |\n",
        "| 26 | Own home elderly                    |\n",
        "| 27 | Seniors in apartments               |\n",
        "| 28 | Residential elderly                 |\n",
        "| 29 | Porchless seniors: no front yard    |\n",
        "| 30 | Religious elderly singles           |\n",
        "| 31 | Low income catholics                 |\n",
        "| 32 | Mixed seniors                        |\n",
        "| 33 | Lower class large families           |\n",
        "| 34 | Large family, employed child         |\n",
        "| 35 | Village families                     |\n",
        "| 36 | Couples with teens 'Married with children'|\n",
        "| 37 | Mixed small town dwellers           |\n",
        "| 38 | Traditional families                |\n",
        "| 39 | Large religous families              |\n",
        "| 40 | Large family farms                   |\n",
        "| 41 | Mixed rurals                         |\n",
        "\n",
        "\n",
        "| L2 | Label                    |\n",
        "|----|--------------------------|\n",
        "| 1  | Successful hedonists     |\n",
        "| 2  | Driven Growers           |\n",
        "| 3  | Average Family           |\n",
        "| 4  | Career Loners            |\n",
        "| 5  | Living well              |\n",
        "| 6  | Cruising Seniors         |\n",
        "| 7  | Retired and Religeous    |\n",
        "| 8  | Family with grown ups    |\n",
        "| 9  | Conservative families    |\n",
        "| 10 | Farmers                  |\n",
        "\n",
        "| L3 | Label |\n",
        "|-------|-------|\n",
        "| 0     | 0%    |\n",
        "| 1     | 1 - 10%   |\n",
        "| 2     | 11 - 23%  |\n",
        "| 3     | 24 - 36%  |\n",
        "| 4     | 37 - 49%  |\n",
        "| 5     | 50 - 62%  |\n",
        "| 6     | 63 - 75%  |\n",
        "| 7     | 76 - 88%  |\n",
        "| 8     | 89 - 99%  |\n",
        "| 9     | 100%   |\n",
        "\n",
        "| L4 | Label                |\n",
        "|-------|----------------------|\n",
        "| 0     | 0                    |\n",
        "| 1     | 1 - 49               |\n",
        "| 2     | 50 - 99              |\n",
        "| 3     | 100 - 199            |\n",
        "| 4     | 200 - 499            |\n",
        "| 5     | 500 - 999            |\n",
        "| 6     | 1000 - 4999          |\n",
        "| 7     | 5000 - 9999          |\n",
        "| 8     | 10.000 - 19.999      |\n",
        "| 9     | 20.000 - ?            |\n",
        "\n"
      ],
      "metadata": {
        "id": "8fzRMTzXbLPt"
      }
    },
    {
      "cell_type": "markdown",
      "source": [
        ">Acceder a los datos:"
      ],
      "metadata": {
        "id": "dbc8dfqr-26R"
      }
    },
    {
      "cell_type": "code",
      "source": [
        "#Para acceder a nuestros ficheros de Google Drive\n",
        "from google.colab import drive\n",
        "drive.mount('/content/drive')\n",
        "# La carpeta datos (que contiene X_train.npy, y_train.npy, X_test.npy y y_test.npy)\n",
        "# debe estar en vuestro Drive, dentro de la carpeta 'Colab Notebooks'"
      ],
      "metadata": {
        "colab": {
          "base_uri": "https://localhost:8080/"
        },
        "id": "WW4AUpWO-oKC",
        "outputId": "aeb6d39f-42da-437c-9bdb-ad867806ff5b"
      },
      "execution_count": null,
      "outputs": [
        {
          "output_type": "stream",
          "name": "stdout",
          "text": [
            "Drive already mounted at /content/drive; to attempt to forcibly remount, call drive.mount(\"/content/drive\", force_remount=True).\n"
          ]
        }
      ]
    },
    {
      "cell_type": "markdown",
      "source": [
        "Los datos están separados en dos partes, una para entrenamiento y otra para test. Se cargan los datos y se unen en un conjunto para poder hacer la propia partición de los datos para entrenamiento y test:"
      ],
      "metadata": {
        "id": "RK89e_0rjrFj"
      }
    },
    {
      "cell_type": "code",
      "source": [
        "#Primera parte de los datos (parte de entrenamiento)\n",
        "file_path = 'drive/MyDrive/Colab Notebooks/datos/ticdata2000.txt'\n",
        "\n",
        "datos = np.loadtxt(file_path, delimiter='\\t')#Funcion cargar datos desde txt\n",
        "\n",
        "x1 = datos[:, :-1]  # todas las columnas excepto la última\n",
        "y1 = datos[:, -1]   # ultima columna donde estan las etiquetas\n",
        "x1 = np.array(x1, np.float64)\n",
        "y1 = np.array(y1, np.float64)\n",
        "\n",
        "#Segunda parte de los datos (separados para test)\n",
        "file_path = 'drive/MyDrive/Colab Notebooks/datos/ticeval2000.txt' #Vector de muestras sin las etiquetas\n",
        "x2 = np.loadtxt(file_path, delimiter='\\t')#Funcion cargar datos desde txt\n",
        "file_path = 'drive/MyDrive/Colab Notebooks/datos/tictgts2000.txt' #Vector de muestras sin las etiquetas\n",
        "y2 = np.loadtxt(file_path, delimiter='\\t')#Funcion cargar datos desde txt\n",
        "x2 = np.array(x2, np.float64)\n",
        "y2 = np.array(y2, np.float64)\n",
        "\n",
        "#Unir datos\n",
        "x = np.row_stack((x1,x2))\n",
        "y = np.concatenate((y1,y2))\n",
        "x = np.array(x)\n",
        "y = np.array(y)\n",
        "# Mostrar dimension del conjunto de muestras total\n",
        "print(\"Forma de vector X de muestras:\", x.shape)\n",
        "print(\"Forma de vector X de etiquetas:\", y.shape)\n"
      ],
      "metadata": {
        "id": "Lm9cT0xof1-D",
        "colab": {
          "base_uri": "https://localhost:8080/"
        },
        "outputId": "6a21e509-a760-40d1-eb34-729e71052b1f"
      },
      "execution_count": null,
      "outputs": [
        {
          "output_type": "stream",
          "name": "stdout",
          "text": [
            "Forma de vector X de muestras: (9822, 85)\n",
            "Forma de vector X de etiquetas: (9822,)\n"
          ]
        }
      ]
    },
    {
      "cell_type": "markdown",
      "source": [
        "Podemos observar que tenemos un total de 9822 muestras en nuestro conunto de datos y para cada muestra poseemos un total de 85 variables más la etiqueta de cada muestra."
      ],
      "metadata": {
        "id": "5sNNCB29g3Bx"
      }
    },
    {
      "cell_type": "markdown",
      "source": [
        "Después de obtener el conjunto total de datos separamos los datos en un conjunto de entrenamiento y otro de test. Realizamos esto lo primero para evitar observar los datos de test y realizar \"Data Snooping\" donde el conjunto de datos podría influenciar nuestra elección sobre el modelo a utilizar para resolver el problema de aprendizaje automático. Para separar las muestras en train y test, dos distribuciones muy comunes en la práctica son 70% de train y 30% de test, y 80% de train y 20% de test. Al utilizar una distribución 70-30 obtendríamos una estimación mejor del error $E_{out}$ a partir del error $E_{test}$ que con la de 80-20, ya que se utilizaría un número mayor de muestras para obtener la estimación, un 30% del total, que en la otra distribución que usaría un 20% del total. Sin embargo, al utilizar una distribución 80-20 obtendríamos un mejor ajuste del problema al entrenar el modelo de aprendizaje con más datos que con la otra distribución, teniendo una mejor generalización en el conjunto de entrenamiento de la función que tratamos de aproximar. En general cuantos más datos se utilicen en test mejor será la estimación del error  $E_{out}$ y cuantos más datos se utilicen en el entrenamiento, el clasificador calculado se ajustará mejor al problema, ya que tiene más datos con los que aprender.  \n",
        "En este caso he elegido una distribución de 80% para entrenamiento y 20% de test, teniendo en cuenta que con esta distribución se tiene un número menor de datos para estimar el error  $E_{out}$, pero se tiene un número mayor de datos para entrenar y para utilizar Cross-Validation con un conjunto de datos mayor."
      ],
      "metadata": {
        "id": "qJRxc5lLpbEc"
      }
    },
    {
      "cell_type": "code",
      "source": [
        "np.random.seed(0)\n",
        "trainPortion = 0.8 #porcentaje de train, el porcentaje de test será la resta de 1 menos el porcentaje de train\n",
        "\n",
        "#-------------Obtener índices\n",
        "\n",
        "indexesData = np.arange(len(y)) #Indices del conjunto de muestras\n",
        "#-------------Desordenar indices y separar en rain y test\n",
        "\n",
        "np.random.shuffle(indexesData) #Desordenar indices de las muestras\n",
        "numberTrain = round(len(indexesData)*trainPortion) #numero de muestras para train\n",
        "trainIndexes = indexesData[:numberTrain]\n",
        "testIndexes = indexesData[numberTrain:]\n",
        "\n",
        "#-------------Datos desorden:ados para train y test\n",
        "\n",
        "trainX = x[trainIndexes]\n",
        "testX = x[testIndexes]\n",
        "trainY = y[trainIndexes]\n",
        "testY = y[testIndexes]\n",
        "\n",
        "#-------------Copia de los datos para mantener datos originales después del preprocesado\n",
        "\n",
        "original_trainX = trainX.copy()\n",
        "original_testX = testX.copy()\n",
        "original_trainY = trainY.copy()\n",
        "original_testY = testY.copy()\n",
        "\n",
        "#-------------Mostrar resultados\n",
        "\n",
        "print('Muestras totales:  {}'.format(len(trainY)+len(testX)))\n",
        "print('Muestras train:  {}'.format(len(trainY)))\n",
        "print('Muestras test:  {}'.format(len(testX)))\n"
      ],
      "metadata": {
        "id": "6nXUieJWpv2t",
        "colab": {
          "base_uri": "https://localhost:8080/"
        },
        "outputId": "7f831ccb-f5ef-40cb-9202-b73db2794974"
      },
      "execution_count": null,
      "outputs": [
        {
          "output_type": "stream",
          "name": "stdout",
          "text": [
            "Muestras totales:  9822\n",
            "Muestras train:  7858\n",
            "Muestras test:  1964\n"
          ]
        }
      ]
    },
    {
      "cell_type": "markdown",
      "source": [
        "Se podría utilizar la función `train_test_split()` de scikit-learn que ofrece un comportamiento similar al código implementado. Como podemos observar, tenemos un total de 9822 muestras, de los cuales 7858 , que representan el 80% del total, serán utilizados para entrenamiento y el resto 1964 (20% del total) para test."
      ],
      "metadata": {
        "id": "pxH0FJXoCkVT"
      }
    },
    {
      "cell_type": "markdown",
      "source": [
        ">**Desbalanceo de clases:**"
      ],
      "metadata": {
        "id": "DglU3G8YRso-"
      }
    },
    {
      "cell_type": "markdown",
      "source": [
        "Vamos a observar el número total de muestras por clase para ver si las clases están debalanceadas en cuanto al número de muestras en el conjunto de entrenamiento (el conjunto de test no lo utilizamos hasta que tengamos que evaluar la mejor hipótesis seleccionada, para evitar realizar Data-Snooping):"
      ],
      "metadata": {
        "id": "TSNaMLkmGIlk"
      }
    },
    {
      "cell_type": "code",
      "source": [
        "class_names = ['No Poseedor de Poliza (0)', 'Poseedor de Poliza (1)']\n",
        "\n",
        "#Contar muestras por clase:\n",
        "class_num = []\n",
        "for i in np.unique(trainY):\n",
        "  class_num.append(np.count_nonzero(trainY== i))\n",
        "class_num = np.array(class_num)\n",
        "\n",
        "# Mostrar bar plot de las clases\n",
        "fig = plt.figure(figsize=(6,5))\n",
        "plt.bar(class_names,class_num)#crear un grafico de barras\n",
        "#plt.legend(loc='upper right') #añadir la leyenda al plot\n",
        "plt.title('Número de muestras por clase')\n",
        "plt.show()\n",
        "\n",
        "#Mostar porcentajes y número de muestras\n",
        "print('Muestras totales en entrenamiento:  {}'.format(len(trainY)))\n",
        "for i in range(len(class_num)):\n",
        "  print('--- Clase {} ---'.format(i))\n",
        "  print('Muestras en train:  {}'.format(class_num[i]))\n",
        "  print('Porcentaje en train:  {}%'.format(np.round(100*class_num[i]/len(trainY),2)))"
      ],
      "metadata": {
        "colab": {
          "base_uri": "https://localhost:8080/",
          "height": 589
        },
        "id": "1d4plvGeV0TW",
        "outputId": "258ad2e3-b5a4-43ec-b4fa-2419b8f7799b"
      },
      "execution_count": null,
      "outputs": [
        {
          "output_type": "display_data",
          "data": {
            "text/plain": [
              "<Figure size 600x500 with 1 Axes>"
            ],
            "image/png": "[encoded data removed]"
          },
          "metadata": {}
        },
        {
          "output_type": "stream",
          "name": "stdout",
          "text": [
            "Muestras totales en entrenamiento:  7858\n",
            "--- Clase 0 ---\n",
            "Muestras en train:  7384\n",
            "Porcentaje en train:  93.97%\n",
            "--- Clase 1 ---\n",
            "Muestras en train:  474\n",
            "Porcentaje en train:  6.03%\n"
          ]
        }
      ]
    },
    {
      "cell_type": "markdown",
      "source": [
        "Analizando los datos vemos en la gráfica de barras del número de muestras por clases que las clases estan desbalanceadas en cuanto al número de datos por clase.  En una clase hay más del 90 % de los datos y en la otra el resto que es menos del 10% del total.  \n",
        "Debido a este desbalanceo, será necesario utilizar métricas de error para evaluar los resultados de los modelos distintas de la métrica de accuracy, ya que al tener un desbalanceo de mas del 90%, un clasificador que clasifique todas las muestras como la clase mayoritaria acertaría en todas las muestras de esa clase, y al representar más del 90% del conjunto de datos, obtendría un accuracy igual al porcentaje de muestras de esa clase (mas del 90%) aunque el clasificador no haya sido entrenado y falle en todas las muestras de la clase minoritaria."
      ],
      "metadata": {
        "id": "ZgJ87l8ZPZKx"
      }
    },
    {
      "cell_type": "markdown",
      "source": [
        ">**Datos faltantes:**"
      ],
      "metadata": {
        "id": "7EV0gMEoRvjM"
      }
    },
    {
      "cell_type": "markdown",
      "source": [
        "Para ver si faltan datos en nuestro conjunto de datos, vamos a utilizar la función `isnull()` de la librería pandas para contar el número de datos que faltan en el conjunto. Esta función detecta si algún valor en el conjunto de datos es del tipo no numéricos o de valor nulo y devuelve una matriz de la misma forma que el conjunto de datos que recibe como parámetro, en el que cada posición devuelve verdadero si falta el dato o falso si no falta el dato:"
      ],
      "metadata": {
        "id": "7-6K0zLHSiDo"
      }
    },
    {
      "cell_type": "code",
      "source": [
        "dfTrainX = pd.DataFrame(trainX) #crear dataframe para utilizar las funciones de al libreria de Pandas\n",
        "num_missing = np.sum(dfTrainX.isnull().values)\n",
        "print(\"Número de datos faltantes: \", num_missing)"
      ],
      "metadata": {
        "colab": {
          "base_uri": "https://localhost:8080/"
        },
        "id": "u7vAvxvnShiA",
        "outputId": "4420b569-c18b-43f6-bb36-8d55c63e7d9a"
      },
      "execution_count": null,
      "outputs": [
        {
          "output_type": "stream",
          "name": "stdout",
          "text": [
            "Número de datos faltantes:  0\n"
          ]
        }
      ]
    },
    {
      "cell_type": "markdown",
      "source": [
        "Como podemos observar no existen datos faltantes en nuestro conjunto de datos y por tanto no hay que realizar ninguna acción al respecto ya que no tenemos ningún problema de datos faltantes."
      ],
      "metadata": {
        "id": "2qaSIz4NToCv"
      }
    },
    {
      "cell_type": "markdown",
      "source": [
        ">**Codificación de los datos**"
      ],
      "metadata": {
        "id": "_eeeY_9vVCsz"
      }
    },
    {
      "cell_type": "markdown",
      "source": [
        "Para las variables categóricas que no tienen un orden de jerarquía entre sus posibles valores, vamos a aplicar el método One-Hot encoding para transformar las variables en un vector con cada posición reprensentando de forma binaria si la muestra es de esa categoría (1) o si no es de esa categoría (0).  \n",
        "Analizando las variables del conjunto de datos he encontrado dos variables categóricas que no presentan relación de jerarquía entre sus valores que son:\n",
        "\n",
        "*   1 MOSTYPE Customer Subtype   \n",
        "\n",
        "\n",
        "\n",
        "| L0 | Value Label                         |\n",
        "|----|------------------------------------|\n",
        "| 1  | High Income, expensive child        |\n",
        "| 2  | Very Important Provincials          |\n",
        "| 3  | High status seniors                 |\n",
        "| 4  | Affluent senior apartments          |\n",
        "| 5  | Mixed seniors                       |\n",
        "| 6  | Career and childcare                |\n",
        "| 7  | Dinki's (double income no kids)     |\n",
        "| 8  | Middle class families               |\n",
        "| 9  | Modern, complete families           |\n",
        "| 10 | Stable family                       |\n",
        "| 11 | Family starters                     |\n",
        "| 12 | Affluent young families             |\n",
        "| 13 | Young all american family           |\n",
        "| 14 | Junior cosmopolitan                 |\n",
        "| 15 | Senior cosmopolitans                |\n",
        "| 16 | Students in apartments              |\n",
        "| 17 | Fresh masters in the city           |\n",
        "| 18 | Single youth                        |\n",
        "| 19 | Suburban youth                       |\n",
        "| 20 | Ethnically diverse                  |\n",
        "| 21 | Young urban have-nots               |\n",
        "| 22 | Mixed apartment dwellers             |\n",
        "| 23 | Young and rising                    |\n",
        "| 24 | Young, low educated                  |\n",
        "| 25 | Young seniors in the city           |\n",
        "| 26 | Own home elderly                    |\n",
        "| 27 | Seniors in apartments               |\n",
        "| 28 | Residential elderly                 |\n",
        "| 29 | Porchless seniors: no front yard    |\n",
        "| 30 | Religious elderly singles           |\n",
        "| 31 | Low income catholics                 |\n",
        "| 32 | Mixed seniors                        |\n",
        "| 33 | Lower class large families           |\n",
        "| 34 | Large family, employed child         |\n",
        "| 35 | Village families                     |\n",
        "| 36 | Couples with teens 'Married with children'|\n",
        "| 37 | Mixed small town dwellers           |\n",
        "| 38 | Traditional families                |\n",
        "| 39 | Large religous families              |\n",
        "| 40 | Large family farms                   |\n",
        "| 41 | Mixed rurals                         |\n",
        "\n",
        "*   5 MOSHOOFD Customer main type\n",
        "\n",
        "| L2 | Label                    |\n",
        "|----|--------------------------|\n",
        "| 1  | Successful hedonists     |\n",
        "| 2  | Driven Growers           |\n",
        "| 3  | Average Family           |\n",
        "| 4  | Career Loners            |\n",
        "| 5  | Living well              |\n",
        "| 6  | Cruising Seniors         |\n",
        "| 7  | Retired and Religeous    |\n",
        "| 8  | Family with grown ups    |\n",
        "| 9  | Conservative families    |\n",
        "| 10 | Farmers                  |\n"
      ],
      "metadata": {
        "id": "j-EcCG_PhYjR"
      }
    },
    {
      "cell_type": "markdown",
      "source": [
        "He encontrado alguna variable más categórica pero representando categorías que tienen un orden en sus valores como la edad o porcentajes.\n",
        "Por lo tanto vamos a plicar One-Hot encoding a esas dos variables utilizando la clase OneHotEncoder utilizando los siguiente parámetros para crear el objeto codificador:\n",
        "*   categories: se especifica la lista categ que contiene las categorías de cada variable.\n",
        "*   sparse_output=False: se establece en False para obtener una matriz densa en lugar de una matriz dispersa, para obtener una matriz con las columnas de cada nueva variable unificadas para añadirlas directamente al conjunto de datos.\n",
        "*   drop=None: se establece en None para mantener todas las categorías en cada variable.\n",
        "Después se utiliza el método fit_transform del objeto codificador para realizar la codificación One-Hot de las variables categóricas elegidas."
      ],
      "metadata": {
        "id": "Tr8TYlkImYsG"
      }
    },
    {
      "cell_type": "code",
      "source": [
        "preproc_trainX = trainX.copy()\n",
        "preproc_testX = testX.copy()\n",
        "\n",
        "variab_categ = [0, 4]  # Variables a codificar\n",
        "\n",
        "trainX_categ = preproc_trainX[:, variab_categ]\n",
        "testX_categ = preproc_testX[:, variab_categ]\n",
        "\n",
        "#Categorias (empiezan en 1)\n",
        "categ_mostype = np.arange(41)+1\n",
        "categ_moshoofd = np.arange(10)+1\n",
        "\n",
        "categ = [categ_mostype,categ_moshoofd]\n",
        "\n",
        "#Funcion para codificar\n",
        "encoder = OneHotEncoder(\n",
        "     categories=categ,  # Categorías de cada variable\n",
        "     sparse_output=False,  # crea una matriz sparse cuando se pone TRUE\n",
        "     drop  = None  #  No quitar categorías en cada variable\n",
        "     )\n",
        "\n",
        "trainX_categ_encoded = encoder.fit_transform(trainX_categ) # Aplicar One Hot Encoding a train\n",
        "testX_categ_encoded = encoder.fit_transform(testX_categ) # Aplicar One Hot Encoding a test\n",
        "\n",
        "# Eliminar las variables categoricas que se han codificado del conjunto original\n",
        "trainX_deleted = np.delete(preproc_trainX, variab_categ, axis=1)\n",
        "testX_deleted = np.delete(preproc_testX, variab_categ, axis=1)\n",
        "\n",
        "# Concatenar las variables sin modificar con las nuevas\n",
        "preproc_trainX = np.concatenate((trainX_deleted, trainX_categ_encoded), axis=1)\n",
        "preproc_testX = np.concatenate((testX_deleted, testX_categ_encoded), axis=1)\n",
        "\n",
        "# Forma del conjunto de datos final\n",
        "print(\"Forma de vector X de muestras tras codificar en training:\",preproc_trainX.shape)\n",
        "print(\"Forma de vector X de muestras tras codificar en test:\",preproc_testX.shape)"
      ],
      "metadata": {
        "colab": {
          "base_uri": "https://localhost:8080/"
        },
        "id": "COMLBqaYMiu6",
        "outputId": "79f849c3-9626-4715-8aad-aec787a9a962"
      },
      "execution_count": null,
      "outputs": [
        {
          "output_type": "stream",
          "name": "stdout",
          "text": [
            "Forma de vector X de muestras tras codificar en training: (7858, 134)\n",
            "Forma de vector X de muestras tras codificar en test: (1964, 134)\n"
          ]
        }
      ]
    },
    {
      "cell_type": "markdown",
      "source": [
        "Con esta codificación hemos conseguido codificar correctamente las variables categóricas aunque hemos añadido una cantidad significativa de variables al conjunto de muestras (como podemos observar en el número de columnas del nuevo conjunto de datos), aumentando la dimesnionalidad del problema en gran medida.  \n",
        "\n",
        "La transformación de estos datos es necesaria que se realice también en el conjunto de test ya que la función entrendad debe recibir los mismos parámetros de entrada al evaluarse con el conjunto de test y al predecir cualquier muestra que durante el entrenamiento."
      ],
      "metadata": {
        "id": "--jo_PQKwE4v"
      }
    },
    {
      "cell_type": "markdown",
      "source": [
        ">**Escala del Conjunto de Datos**"
      ],
      "metadata": {
        "id": "ZMLBoDEts7yt"
      }
    },
    {
      "cell_type": "markdown",
      "source": [
        "Voy a analizar los máximos y mínimos que toman las variables del conjunto de datos de entrenamiento para observar si hay diferencias de escalas entre los distintos parámetros de las muestras. Es importante destacar que estos análisis de los datos han de hacerse únicamente en el conjunto de entrenamiento ya que el econjunto de test es el que será utilizado para evaluar el modelo final y las elecciones tanto del modelo como de las transformaciones no deben influenciarse por la información de este conjunto, y así evitar cometer Data Snooping."
      ],
      "metadata": {
        "id": "uvahk1gdxRI7"
      }
    },
    {
      "cell_type": "code",
      "source": [
        "# Obtener el valor máximo y mínimo de cada columna en el conjunto de entrenamiento\n",
        "max_values = np.max(preproc_trainX, axis=0)\n",
        "min_values = np.min(preproc_trainX, axis=0)\n",
        "\n",
        "# Crear los nombres de las columnas\n",
        "column_names = np.arange(len(max_values))\n",
        "\n",
        "# Crear histograma de los valores máximos\n",
        "plt.bar(column_names, max_values)\n",
        "plt.xlabel('Columna')\n",
        "plt.ylabel('Valor máximo')\n",
        "plt.title('Valores máximos por columna')\n",
        "plt.show()\n",
        "\n",
        "# Crear histograma de los valores mínimos\n",
        "plt.bar(column_names, min_values)\n",
        "plt.xlabel('Columna')\n",
        "plt.ylabel('Valor mínimo')\n",
        "plt.title('Valores mínimos por columna')\n",
        "plt.show()"
      ],
      "metadata": {
        "colab": {
          "base_uri": "https://localhost:8080/",
          "height": 927
        },
        "id": "FpedR7wntSiO",
        "outputId": "702670c9-2959-4db5-fe3a-80c3d9a00b4d"
      },
      "execution_count": null,
      "outputs": [
        {
          "output_type": "display_data",
          "data": {
            "text/plain": [
              "<Figure size 640x480 with 1 Axes>"
            ],
            "image/png": "[encoded data removed]"
          },
          "metadata": {}
        },
        {
          "output_type": "display_data",
          "data": {
            "text/plain": [
              "<Figure size 640x480 with 1 Axes>"
            ],
            "image/png": "[encoded data removed]"
          },
          "metadata": {}
        }
      ]
    },
    {
      "cell_type": "markdown",
      "source": [
        "Como podemos observar en los dos histogramas, los valores máximos de las variables difieren y aunque no es una diferencia enorme, debido a la codificación que hemos realizado antes observamos que hay un conjunto significativo de variables binarias y por tanto podemos aplicar un método de escalado de los datos para que todos los datos se encuentren en la misma escala y así evitar que una variable domine durante el ajuste del modelo. Como podemos observar en los valores mínimos, no se tienen variables negativas y por tanto podemos usar un método de escalado que transforme los datos a una escala entre 0 y 1, y así sigue sin haber variables negativas y se obtiene todas las variables con la misma escala que las binarias, entre 0 y 1. Este escalado se realiza en el apartado 4)"
      ],
      "metadata": {
        "id": "FvdP7EPExhid"
      }
    },
    {
      "cell_type": "markdown",
      "source": [
        "Ahora voy a analizar si hay alguna variable que sea constante, esto se puede implementar de muchas maneras, pero si se realiza la resta de los valores máximos menos los valores mínimos, solo las variables constantes tendrán resta 0, y de esta manera utilizamos la información que ya teníamos antes sobre los máximos y mínimos."
      ],
      "metadata": {
        "id": "RHi2W5tD5vEp"
      }
    },
    {
      "cell_type": "code",
      "source": [
        "# Crear histograma de las desviaciones estandar\n",
        "plt.bar(column_names, max_values-min_values)\n",
        "plt.xlabel('Columna')\n",
        "plt.ylabel('Resta Maximo y Mínimo')\n",
        "plt.title('Valores Resta Máximo - Mínimo')\n",
        "plt.show()"
      ],
      "metadata": {
        "colab": {
          "base_uri": "https://localhost:8080/",
          "height": 472
        },
        "id": "-UAAC-tS465p",
        "outputId": "cc69cad3-0b01-4bfb-eb3b-2fbc6cbf4e8d"
      },
      "execution_count": null,
      "outputs": [
        {
          "output_type": "display_data",
          "data": {
            "text/plain": [
              "<Figure size 640x480 with 1 Axes>"
            ],
            "image/png": "[encoded data removed]"
          },
          "metadata": {}
        }
      ]
    },
    {
      "cell_type": "markdown",
      "source": [
        "Como pdoemos observar en el histográma de las diferencias entre los máximos y mínimos, hay una columna que vale 0."
      ],
      "metadata": {
        "id": "NMKPr--o7lKE"
      }
    },
    {
      "cell_type": "code",
      "source": [
        "variables_ctes = []\n",
        "for i in range(len(max_values)):\n",
        "  if(max_values[i]  == min_values[i]): # es equivalente que sean iguales a que su resta sea 0\n",
        "    print('La variable {} es constante'.format(i))\n",
        "    variables_ctes.append(i)\n",
        "if(len(variables_ctes) == 0):\n",
        "  print('No hay variables constantes')"
      ],
      "metadata": {
        "colab": {
          "base_uri": "https://localhost:8080/"
        },
        "id": "JqtECMRH6jZs",
        "outputId": "21553e46-4ca5-4f45-fef4-b4f2ce72a239"
      },
      "execution_count": null,
      "outputs": [
        {
          "output_type": "stream",
          "name": "stdout",
          "text": [
            "La variable 96 es constante\n"
          ]
        }
      ]
    },
    {
      "cell_type": "markdown",
      "source": [
        "Con este último algoritmo hemos detectado que hay una varible que permanece constante en todas las muestras de entrenamiento. Esta variable no proporciona información sobre cada muestra ya que todas las muestras tienen el mismo valor y por tanto al no tener variabilidad no contribuye al modelo para predecir y diferenciar entre ambas clases, por lo tanto podemos eliminar la variable."
      ],
      "metadata": {
        "id": "swuQWoIg7ts4"
      }
    },
    {
      "cell_type": "code",
      "source": [
        "#eliminar variables constantes:\n",
        "preproc_trainX = np.delete(preproc_trainX, variables_ctes, axis=1)\n",
        "preproc_testX = np.delete(preproc_testX, variables_ctes, axis=1)\n",
        "\n",
        "# Forma del conjunto de datos final\n",
        "print(\"Forma de vector X de muestras tras codificar en training:\",preproc_trainX.shape)\n",
        "print(\"Forma de vector X de muestras tras codificar en test:\",preproc_testX.shape)"
      ],
      "metadata": {
        "colab": {
          "base_uri": "https://localhost:8080/"
        },
        "id": "KDBVeY3W8aD7",
        "outputId": "e8965bd2-4f93-4a3a-d15d-6d4281475002"
      },
      "execution_count": null,
      "outputs": [
        {
          "output_type": "stream",
          "name": "stdout",
          "text": [
            "Forma de vector X de muestras tras codificar en training: (7858, 133)\n",
            "Forma de vector X de muestras tras codificar en test: (1964, 133)\n"
          ]
        }
      ]
    },
    {
      "cell_type": "code",
      "source": [
        "# Obtener los máximos y minimos de nuevo:\n",
        "max_values = np.max(preproc_trainX, axis=0)\n",
        "min_values = np.min(preproc_trainX, axis=0)\n",
        "\n",
        "#comprobar variables constantes denuevo\n",
        "variables_ctes = []\n",
        "for i in range(len(max_values)):\n",
        "  if(max_values[i]  == min_values[i]): # es equivalente que sean iguales a que su resta sea 0\n",
        "    print('La variable {} es constante'.format(i))\n",
        "    variables_ctes.append(i)\n",
        "if(len(variables_ctes) == 0):\n",
        "  print('No hay variables constantes')"
      ],
      "metadata": {
        "colab": {
          "base_uri": "https://localhost:8080/"
        },
        "outputId": "6fe56b09-aec0-4150-a5ae-145f26709995",
        "id": "wR0QDkIo88ow"
      },
      "execution_count": null,
      "outputs": [
        {
          "output_type": "stream",
          "name": "stdout",
          "text": [
            "No hay variables constantes\n"
          ]
        }
      ]
    },
    {
      "cell_type": "markdown",
      "source": [
        "Comprobamos de nuevo si hay variables constantes para segurarnos de que se han eliminado correctamente, y efectivamente ya no hay variables constantes."
      ],
      "metadata": {
        "id": "db6LRS6T-IKO"
      }
    },
    {
      "cell_type": "markdown",
      "source": [
        "Por el mismo motivo de antes, cuando se han codificado las variables categóricas, como la función clsificadora debe recibir los mismso parámtreos de entrada en el entrenameinto y test, hay que eliminar las variables constantes tanto en entrenamiento como en test."
      ],
      "metadata": {
        "id": "909mDObf90sp"
      }
    },
    {
      "cell_type": "markdown",
      "source": [
        "#### <font color='blue'>2)  Identificar qué conjuntos de hipótesis se emplearán y justificar dicha elección. 0.25 puntos."
      ],
      "metadata": {
        "id": "9Ozk6Bf-fid4"
      }
    },
    {
      "cell_type": "markdown",
      "source": [
        "Como modelos lineales podríamos utilizar los siguientes:\n",
        "*   Perceptrón PLA   \n",
        "*   Perceptrón Pocket  \n",
        "*   Regresion Lineal empelada en clasificación\n",
        "*   SVM utilizando un kernel lineal\n",
        "*   Regresión Logística  \n",
        "\n",
        "De entre los posibles modelos lineales voy a utilizar SVM utilizando un kernel lineal y Regresión Logística. He elegido estos modelos ya que el modelo SVM obtiene clasificadores parecidos a los del modelo Perceptrón Pocket pero SVM maximiza la distancia entre las clases obteniendo resultados mejores y convergiendo a un clasificador óptimo, mientras que Perceptrón Pocket que unicamente trata de separar los datos mejorando en cada iteración, utilizando el gradiente de la función de pérdida y quedándose con el mejor clasificador utilizado pero no asegura converger al óptimo. Perceptrón PLA es idéntico a Perceptrón Pocket pero no almacena la mejor solución calculada por lo que obtiene peores clasificadores que utilizando el método Pocket. Por otro lado regresión lineal no es un método generalmente utilizado para clasificación ya que inicialmente está ideado para problemas de regresión donde hace falta predecir valores continuos, y aunque se pueda extender a clasificación no es su enfoque principal.  \n",
        "Regresión logística es un buen modelo que ofrece buenos resultados incluso cuando existe ruido en las muestras ya que estima directamente las probabilidades de pertenecer a cada clase y en base a estas probabilidades clasifica la muestra como la clase con mayor probabilidad.\n",
        "\n",
        "\n",
        "La clase de funciones $\\mathcal{H}$ del modelo SVM con kernel lineal se basan en funciones lineales que son combinaciones lineales de las características de entrada aplicando unos pesos $w$ que son los parámetros que el modelo ajusta durante el aprendizaje. Se emplea un umbral de decisión y dependiendo del valor calculado con la combinación lineal de la entrada se clasifica la muestra. En nuestro caso como las etiquetas de las muestras son representadas por un 0 o un 1, la clase de funciones del modelo SVM es:\n",
        "\n",
        "> $\\mathcal{H} = \\{ h_w|\n",
        "h_w(x) \\ para \\ w \\ fijado\\}$  \n",
        "\n",
        "Con $h_w(x)$:\n",
        "\n",
        ">$h_w(x) =\\left\\{ \\begin{array}{lcc}\n",
        " 0 & si & w^Tx < 0\\\\\n",
        " \\\\ 1 & si & w^Tx \\geq 0\n",
        " \\end{array}\n",
        "   \\right. $\n",
        "\n",
        "donde el número de valores de $w$ dependerá del número de parámetros de cada muestra del conjunto de datos.\n",
        "\n",
        "Las funciones que pertenecen a estas clases son funciones lineaes cuyas fronteras de decisión son hiperplanos en el espacio de los parámetros de los datos. Por ejemplo en el caso del plano, con dos parámetros para los datos, las fronteras de decisión de estas funciones serían rectas que separan el plano en dos mitades, donde cada mitad representa una de las dos clases.  \n",
        "\n",
        "Se eligen estos conjuntos de hipótesis ya que nuestro problema se trata de clasificar dos clases, por lo tanto consiste en separar el espacio paramétrico de los datos en dos partes donde cada parte represente una de las dos clases. Al utilizar modelos lineales, utilizamos funciones lineales que generar estas fronteras de decisión representadas por hiperplanos.\n",
        "\n",
        "Entonces, como las funciones tienen por fronteras de decisión hiperplanos, el algoritmo de aprendizaje será más efectivo cuanto más separables linealmente sean los datos, incluso en algunos casos podrá converger a la solución óptima en el entrenamiento si los datos son completamente linealmente separables.\n",
        "\n",
        "\n",
        "\n"
      ],
      "metadata": {
        "id": "ibcURnUq7-mr"
      }
    },
    {
      "cell_type": "markdown",
      "source": [
        "\n",
        "La clase de funciones $\\mathcal{H}$ del modelo de regresión lineal se basan también en combinaciones lineales de las características de entrada aplicando unos pesos $w$, pero como lo que se intenta estimar es la probabilidad de pertenecer a una clase u otra, se utiliza una función logística $\\theta$ que transforma el valor de la combinación lineal a un nuevo valor proporcional dentro del intervalo $[0, 1]$ (como la función sigmoide).   \n",
        "\n",
        "Para clasificar, generalmente se elige la clase que tiene mayor probabilidad de contener a la muestra. Se elige de esta forma siguiendo la regla de Bayes que establece que si se conocen la distribución de probabilidad de las clases, el mejor clasificador sería el que clasifique cada muestra en la clase en la que tiene mayor porbabilidad de pertenecer. En nuestro caso como las etiquetas de las muestras son representadas por un 0 o un 1, la clase de funciones del modelo de Regresión Lineal es:\n",
        "\n",
        "> $\\mathcal{H} = \\{ h_w|\n",
        "h_w(x) \\ para \\ w \\ fijado\\}$  \n",
        "\n",
        "Con $h_w(x)$:\n",
        "\n",
        ">$h_w(x) =\\left\\{ \\begin{array}{lcc}\n",
        " 1 & si & \\theta(w^Tx) \\geq 1/2 \\\\\n",
        " \\\\ 0 & & en\\ otro\\ caso\n",
        " \\end{array}\n",
        "   \\right. $\n",
        "\n",
        "Este modelo de Regresión lineal se puede implementar con la clase `sklearn.linear_model.LogisticRegression` de la librería `sklearn`. Sin embargo, con esta implementación de regresión lineal no tenemos el hiperparámetro de la tasa de aprendizaje y por tanto voy a utilizar regresión lineal implementada con Descenso de Gradiente Estocástico (SGD) donde se puede elegir la tasa de aprendizaje que mejor se ajuste al problema, y así poder comparar con más modelos que tengan distintos hiperparámetros con los que provar valores.\n",
        "\n",
        "Al implementar Regresión Logística con SGD, la clase de funciones que explora es la clase de funciones lineal $\\mathcal{H}$ :\n",
        "> $\\mathcal{H} = \\{ h_w|\n",
        "h_w(x) \\ para \\ w \\ fijado\\}$  \n",
        "\n",
        "Con $h_w(x)$:\n",
        "\n",
        ">$h_w(x) =\\left\\{ \\begin{array}{lcc}\n",
        " 0 & si & w^Tx < 0\\\\\n",
        " \\\\ 1 & si & w^Tx \\geq 0\n",
        " \\end{array}\n",
        "   \\right. $\n",
        "\n",
        "que es la misma que con SVM. Como ambos son modelos lineales tiene sentido que tengan la misma clase de funciones ya que las funciones que exploran son lineales con fronteras de decisión hiperplanos que separan el espacio pramétrico en las dos clases."
      ],
      "metadata": {
        "id": "mZ1TmF1rB7fM"
      }
    },
    {
      "cell_type": "markdown",
      "source": [
        "#### <font color='blue'>3)  Si la base de datos define conjuntos de training y test, únalos en un solo conjunto y genere sus propios conjuntos. Describa y justifique el mecanismo de partición. 0.75 puntos."
      ],
      "metadata": {
        "id": "4LiijYn4fw_y"
      }
    },
    {
      "cell_type": "markdown",
      "source": [
        "En el apartado 1 ya se ha unido en un solo conjunto todos los datos y han sido separados en training y test con una distribución de 80% training y 20% test como se ha comentado en ese apartado. En el apartado 1) ya se ha explicado las ventajas e inconvenientes de utilizar dsitintas distribuciones para separar los datos en entrenamiento y test."
      ],
      "metadata": {
        "id": "B1MhOIdhWtbB"
      }
    },
    {
      "cell_type": "markdown",
      "source": [
        ">**V-Fold Cross Validation**"
      ],
      "metadata": {
        "id": "zLDrwKrr1NBV"
      }
    },
    {
      "cell_type": "markdown",
      "source": [
        "En el conjunto de datos de entrenamiento voy a utilizar la técnica de V-Fold Cross-Validation (CV) utilizando 10 folds (particiones del conjunto). Esta técnica generalmente ofrece una mejor estimación del error del modelo en la fase de entrenamiento que la estimación utilizando el error de entrenamiento obtenido entrenando el modelo con todos los datos de entrenameinto.\n",
        "\n",
        "La técnica de validación cruzada con V-folds es un método utilizado para evaluar el rendimiento de un modelo de aprendizaje automático de manera más robusta y precisa. Permite utilizar todo el conjunto de datos disponible para entrenar y evaluar el modelo.Esta técnica se basa en dividir el conjunto de datos en V partes iguales (folds) donde cada uno actúa como conjunto de validación una vez, mientras que los subconjutnos restantes se utilizan como conjunto de entrenamiento para ajustar el modelo.Por lo tanto, el modelo se entrena V veces, y en cada vez se utiliza un subconjunto diferente como conjunto de validación. Al final de cada iteración, se obtiene una medida del error o de las métricas elegidas para evaluar el modelo y finalmente se ofrece como estimación final el promedio de las mediciones realizadas en todas las iteraciones.\n",
        "\n",
        "Al utilizar la técnica de V-fold cross-validation, se obtiene una evaluación más confiable del modelo, ya que se utiliza todo el conjunto de datos tanto para entrenar como para validar el modelo. Además, al repetir el proceso V veces con diferentes particiones del conjunto de datos, se reduce el impacto del sesgo en la estimación del rendimiento del modelo.\n",
        "\n",
        "Un valor común para el número de particiones es V = 10, pero puede variar dependiendo del tamaño del conjunto de datos y de la cantidad de datos disponibles. Valores más pequeños de V pueden dar lugar a una estimación menos precisa, mientras que valores más grandes pueden resultar en un coste computacional mayor.\n",
        "\n",
        "Por lo tanto he elegido V = 10  ya que con un número bajo de particiones la estimación del error puede ser poco precisa (al realizar un número menor de estimaciones y particiones del conjunto) y con un número elevado de particiones el coste computaconal es elevado debido al propio coste de la técnica V-Fold Cross-Validation.\n",
        "\n",
        "\n",
        "Debido al desbalanceo significativo de clases que se ha observdo anteriormente (la clase mayoritaria tiene más de un 90% de representación del total), voy a utilizar Stratified V-Fold Cross-Validation, que separa el conjunto de datos en subconjutnos con el mismo porcentaje de representación de cada clase en cada subconjunto.\n",
        "\n",
        "Stratified V-Fold es una variante de la técnica K-fold que tiene en consideración el problema del desbalanceo de clases en el conjunto de datos. Cuando las clases no están representadas de manera equilibrada, como en este conjunto de datos donde hay una diferencia significativa en la cantidad de instancias entre las clases, la validación cruzada que he explicado anteriormente podría generar particiones en las que una o más clases estén subrepresentadas en el conjunto de validación si se eligen las particions de manera uniforme sobre el conjunto de datos.\n",
        "\n",
        "La técnica Stratified V-Fold mantiene una proporción similar de instancias de cada clase en las particiones que genera. Utilizo este método para evitar que la clase minoritaria de este conjunto de datos quede subrepresentada en algunas de las particiones que genera la técnica y afecte a la evluación y entrenamiento del modelo."
      ],
      "metadata": {
        "id": "SjOHt9iwT1ax"
      }
    },
    {
      "cell_type": "markdown",
      "source": [
        "#### <font color='blue'>4)  Justifique todos los detalles del preprocesado de los datos (codificación, transformación, normalización, etc). Es decir, todas las manipulaciones sobre los datos iniciales que nos permitan fijar el conjunto de vectores de características que se usarán en el entrenamiento. 1 punto.  \n",
        "\n",
        "<font color='blue'>Nota: Las transformaciones no-lineales de las variables pueden definirse a partir de las potencias y\n",
        "productos de potencias de las variables originales, conjuntos de polinomios ortogonales, etc. Si se\n",
        "usan transformaciones no polinómicas de las variable como $log$, $\\sqrt{()}$, $sin$, etc, debe justificar el\n",
        "interés de las mismas."
      ],
      "metadata": {
        "id": "qJykJiQxf30a"
      }
    },
    {
      "cell_type": "markdown",
      "source": [
        ">**Codificación de los datos**"
      ],
      "metadata": {
        "id": "LjjyRZunv9RZ"
      }
    },
    {
      "cell_type": "markdown",
      "source": [
        "En el apartado 1), tras analizar los datos observé que existían dos variables categóricas que no presentaban un orden de jerarquía entre sus valores, y por tanto he aplicado el método One-Hot Encoding a esas dos variables categóricas. Este recodificación de los datos es necesaria para evitar que los algoritmos de aprendizaje automático aprendan una realción o un orden que no existe entre las categorías ya que si por ejemplo se representase la variable categórica como un número entero cada clase, como ocurre en nuestro con caso la variable *MOSTYPE Customer Subtype* que se representa como un número del 1 al 41, cada uno indicando una categoría distinta sin ningún orden entre las categorías, el algoritmo podría sociar una relación de orden o jerarquía entre los valores de la variable incorrecta.  \n",
        "El método One-Hot Encoding, como ya he explicado antes, convierte las variables categóricas representadas por números en una variable como un nuevo vector de columnas binarias para cada categoría dentro de la variable asignando un 1 si pertenece a la categoría y un 0 sino."
      ],
      "metadata": {
        "id": "iyUFwIiFt_U3"
      }
    },
    {
      "cell_type": "markdown",
      "source": [
        ">**Escalado de los datos**"
      ],
      "metadata": {
        "id": "ap07PxDSyziV"
      }
    },
    {
      "cell_type": "markdown",
      "source": [
        "Como hemos analizado en el apartado 1), el conjutno tiene vairables cuyos valores se encunetran en escalas distintas, entonces para evitar que una característica domine sobre otras durante el ajuste del modelo voy a escalar el conjunto de datos. Como he explicado en el apartado 1) al analizar los máximos y mínimos, he visto que muchas de las características eran binarias debido a la codifiación que he realizado de las variables categóricas y en genera no había valores negativos, por lo tanto he decidido utilizar la funcion `MinMaxScaler` de `sklearn` para escalar todos los datos a una escala entre 0 y 1, como la escala de las variables binarias. El mismo escalado que se aplica en entrenamiento tiene que aplicarse al conjunto de test y no se debe usar infromación del conjunto de test para realizar el escalado, por lo tanto utilizo el metodo `fit()` de `MinMaxScaler` con los datos de entrenamiento para realizar el mismo escalado, que se utiliza en entrenameinto con la infromación del conjunto de entrenameinto, con el conjunto de test. Al codificar varaibles categóricas, hemos añadido las variables binarias que son las ultimas variables desde la 84 hasta la última, y por tanto ya estan en una escala asequible entre 0 y 1, entonces voya aplicar el escalado al resto de las variables."
      ],
      "metadata": {
        "id": "XIZz1LQ6qbLZ"
      }
    },
    {
      "cell_type": "code",
      "source": [
        "variables_escalar = 83\n",
        "\n",
        "# Escalado Min-Max\n",
        "min_max_scaler = MinMaxScaler(\n",
        "    feature_range = (0,1), # Rango al que escalar los datos\n",
        "    copy = True # Evitar crear una copia de los datos y realizar el escalado directamente en los datos\n",
        ")\n",
        "\n",
        "#ajustar el escalador a los datos de entrenamiento\n",
        "min_max_scaler.fit(preproc_trainX[:,:variables_escalar])\n",
        "\n",
        "# aplicar el escalado a los datos de entrenamiento y test\n",
        "preproc_trainX[:,:variables_escalar] = min_max_scaler.fit_transform(preproc_trainX[:,:variables_escalar]);\n",
        "preproc_testX[:,:variables_escalar] = min_max_scaler.fit_transform(preproc_testX[:,:variables_escalar]);"
      ],
      "metadata": {
        "id": "SJd2M6xUwnx8"
      },
      "execution_count": null,
      "outputs": []
    },
    {
      "cell_type": "code",
      "source": [
        "# Obtener el valor máximo y mínimo de cada columna en el conjunto de entrenamiento\n",
        "max_values = np.max(preproc_trainX, axis=0)\n",
        "min_values = np.min(preproc_trainX, axis=0)\n",
        "\n",
        "# Crear los nombres de las columnas\n",
        "column_names = np.arange(len(max_values))\n",
        "\n",
        "# Crear histograma de los valores máximos\n",
        "plt.bar(column_names, max_values)\n",
        "plt.xlabel('Columna')\n",
        "plt.ylabel('Valor máximo')\n",
        "plt.title('Valores máximos por columna')\n",
        "plt.show()\n",
        "\n",
        "# Crear histograma de los valores mínimos\n",
        "plt.bar(column_names, min_values)\n",
        "plt.xlabel('Columna')\n",
        "plt.ylabel('Valor mínimo')\n",
        "plt.title('Valores mínimos por columna')\n",
        "plt.show()"
      ],
      "metadata": {
        "colab": {
          "base_uri": "https://localhost:8080/",
          "height": 927
        },
        "outputId": "b61e5110-2bfe-4ed7-ffb8-25eb4b93f02a",
        "id": "E08-XAav1Ga4"
      },
      "execution_count": null,
      "outputs": [
        {
          "output_type": "display_data",
          "data": {
            "text/plain": [
              "<Figure size 640x480 with 1 Axes>"
            ],
            "image/png": "[encoded data removed]"
          },
          "metadata": {}
        },
        {
          "output_type": "display_data",
          "data": {
            "text/plain": [
              "<Figure size 640x480 with 1 Axes>"
            ],
            "image/png": "[encoded data removed]"
          },
          "metadata": {}
        }
      ]
    },
    {
      "cell_type": "markdown",
      "source": [
        "Como podemos observar en los nuevos histogramas de los valores máximos y mínimos, los datos han sido escalados correctamente a la escala $[0,1]$. Además podemos observar que no hay variables con mismo valor máximo y mínimo y por tanto no hay variables constantes. Esto se debe a que ya hemos comprobado y eliminado las variables constantes de nuestro cconjunto de datos en el apartado 1)."
      ],
      "metadata": {
        "id": "Vr_w9wd-y4UJ"
      }
    },
    {
      "cell_type": "markdown",
      "source": [
        ">**Outliers**\n"
      ],
      "metadata": {
        "id": "EPmRgc959bFw"
      }
    },
    {
      "cell_type": "markdown",
      "source": [
        "Los outliers, o valores atípicos, son observaciones o instancias que se alejan significativamente del resto de los datos en un conjunto de datos. Estos valores atípicos pueden aparecer debido a errores en la medición de los datos o cualquier fuente de ruido que afecte a algunas muestras en el conjunto de datos.Los outliers pueden tener un impacto significativo en el aprendizaje automático, ya que pueden transformar la distribución de los datos y afectar negativamente la calidad del modelo. Este tipo de muestras pueden introducir ruido en los datos e impedir que el modelo pueda separar las clases correctamente provocando una disminución en la precisión y el rendimiento general del clasificador.\n",
        "\n",
        "Una técnica comúnm para tratar de identificar y eliminar los outliers y así reducir su impacto en el aprendizaje automático es el Análisis de Componentes Principales (PCA). PCA es una técnica de reducción de dimensionalidad que busca transformar un conjunto de variables correlacionadas en un conjunto de nuevas variables no correlacionadas y de esta forma reducir la influencia de los outliers y ayudar a mejorar el rendimiento de los modelos.\n",
        "\n",
        "Los outliers pueden ser la principal fuente del error de un modelo pero trata de identificar y demostrar que una muestra se trata de un outlier es difícil y en muchos casos no se puede saber si la muestra es útil para el problema o se trata de ruido en los datos. Algunos valores extremos pueden ser muestras reales que el clasificador debe predecir y no necesariamente deben considerarse outliers. Por ejemplo, en el análisis de fraudes, los valores extremos pueden representar transacciones fraudulentas reales y no muestras generadas por ruido que no deben tenerse en cuenta. Es por esto que la clasificación de las muestras como outliers puede ser muy subjetivo y difícil de demostrar.\n",
        "\n",
        "En nuestro conjunto de datos, al tener una clase con mucha menos representación en el conjunto total de datos, algunas muestras que puedan parecer outliers podrían ser datos relevantes que el clasificador debe predecir y por tanto no deberían eliminarse. Es por esto que en este conjunto de datos no voy a aplicar la técnida de PCA y voy a tratar de tener en cuenta la mayor cantidad de información para intentar clasificar la clase minoritaria igual que la clase mayoritaria."
      ],
      "metadata": {
        "id": "bH3k5RdM9pmp"
      }
    },
    {
      "cell_type": "markdown",
      "source": [
        "#### <font color='blue'>5)  Justifique las métricas de error y la función de pérdida a usar. Discutir su idoneidad para el problema. 0.5 puntos."
      ],
      "metadata": {
        "id": "3QXdZX5DgM0c"
      }
    },
    {
      "cell_type": "markdown",
      "source": [
        ">**Métricas de Error**"
      ],
      "metadata": {
        "id": "n5lUkKiPN6qR"
      }
    },
    {
      "cell_type": "markdown",
      "source": [
        "Como hemos observado en el apartado 1), hay un desbalanceo significativo entre ambas clases, ya que una de las clases tiene una representación de más del 90% del total mientras que la otra tiene menos del 10% del total. Como he explicado antes, debido a este desbalanceo, será necesario utilizar métricas de error distintas de la métrica de accuracy, ya que un clasificador que clasifique todas las muestras como la clase mayoritaria obtendría una calificación de más del 90% en accuracy y por tanto obtener un porcentaje alto de más del 90% en accuracy no es un buen indicador de éxito al evaluar un modelo en este problema.  \n",
        "\n",
        "Tomando la clase mayoritaria (0) como la clase negativa y la clase minoritaria (1) como la clase positiva, voy a utiliza las siguientes métricas:\n",
        "\n",
        "\n",
        "*   Precisión: La precisión se calcula como  $\\frac{TP}{TP+FP}$.  \n",
        "Esta métrica, por cómo se calcula, mide la proporción de casos positivos correctamente clasificados respecto de todas las predicciones positivas. Entonces en nuestro problema es útil esta métrica ya que penaliza los falsos positivos (clasificar de forma incorrecta la clase minoritaria) y valora los positivos verdaderos (clasificar de forma correcta la clase minoritaria)\n",
        "*   Recall: se calcula como $\\frac{TP}{TP+FN} = \\frac{TP}{P}$.  \n",
        "Mide la proporción de casos positivos correctamente identificados respecto al total de casos positivos reales. Sirve para verificar si el modelo está identificando correctamente los casos positivos y evitando falsos negativos.\n",
        "*   F1-Score: se calcula como $2 *\\frac{ Precision * Recall}{Precision + Recall}$.   \n",
        "Combina la precisión y el recall en una única medida y por lo tanto es útil también en problemas con desbalanceo de clases. Proporciona un equilibrio entre la precisión y el recall, ofreciendo una valoración más general del modelo que las dos métricas anteriores.\n",
        "\n",
        "Como notación estoy utilizando:  \n",
        "$TP$: verdaderos positivos.  \n",
        "$FP$: falsos positivos.  \n",
        "$TN$: verdaderos negativos.  \n",
        "$FN$: falsos negativos.  \n",
        "\n",
        "Para implementar estas métricas voy a utilizar la función `make_scorer` de `sklearn.metrics` que se utiliza para crear un objeto puntuador (scorer) a partir de una métrica o función de pérdida. Utilizo esta función para poder utilizar la función `cross_validate` que recibe como parámetro de entrada un modelo (*estimator* que implemente la función fit ), unos datos de entrada (*X*), las etiquetas correspondientes a los datos (*Y*), un generador de cross-validation (*cv*) y una lista con las metricas (scores) que se pretenden evaluar (*scoring*). Existen otras métricas denominadas macro que a partir de las métricas usuales, calculan cada una de las métricas por clases y despúes realizan el promedio. Por ejemplo para la métrica `'precision'` existe `'precision_macro'`. Estas métricas al evaluar las clases por separado no tienen en cuenta el desbalanceo de clases y por lo tanto no son las que he elegido para evaluar mis modelos ya que en este conjunto de datos existe desbalanceo de clases en gran medida. Por eso utilizo `make_scorer` para crear objetos puntuadores a aprtir de las métrcias que que he elegido y he explicado anteriormente.\n"
      ],
      "metadata": {
        "id": "ehvmrCB9KPyd"
      }
    },
    {
      "cell_type": "markdown",
      "source": [
        ">**Funciones de Pérdida**"
      ],
      "metadata": {
        "id": "-N_ytRCdN6Av"
      }
    },
    {
      "cell_type": "markdown",
      "source": [
        "El error que generlamente se utiliza en Regresión Logística es el error de entropía cruzada (\"cross-entropy\" error) que se obtiene a partir de la siguiente formula:\n",
        ">$E_{in}(w) = \\frac{1}{N} \\sum_{n=1}^{N} ln(1 + e^{-y_n w^T x_n})$\n",
        "\n",
        "Esta formula se obtiene al tratar de maximizar la probabilidad de obtener el vector de pesos w que clasifica cada muestra correctamente siendo $ s = \\{(x_1, y_1),...,(x_N, y_N)\\}$ las distribución de etiquetas correctas:\n",
        ">$L(s) = \\prod_{i=1}^{N} P_w(y_i|x_i) = \\prod_{i=1}^{N} \\theta (y_n w^T x_n)$  \n",
        "\n",
        "Para conseguirlo podemos minimizar:  \n",
        ">$-\\frac{1}{N} ln(L(s))=-\\frac{1}{N} ln(\\prod_{i=1}^{N} \\theta (y_n w^T x_n)) = \\frac{1}{N} \\sum_{n=1}^{N} ln(1 + e^{-y_n w^T x_n})$\n",
        "\n",
        "Que es justo la expresión del error de entropía cruzada:\n",
        "\n",
        ">$E_{in}(w) = \\frac{1}{N} \\sum_{n=1}^{N} ln(1 + e^{-y_n w^T x_n})$\n",
        "\n",
        "En la clase `SGDClassifier` se especifica la función de pérdida a usar con el parámetro `Loss` y en nuestro caso para implementar regresión logística se emplea 'log_loss' que es la función de pérdida asociada a este modelo.\n",
        "\n"
      ],
      "metadata": {
        "id": "_j8BI3Jiv4yM"
      }
    },
    {
      "cell_type": "markdown",
      "source": [
        "El modelo de SVM que estamos implementando es el modelo de SVM con margen suave (soft-margin SVM). El objetivo de este modelo es encontrar un hiperplano de separación que maximice el margen entre las clases, permitiendo cierto grado de error de clasificación en las muestras de entrenamiento.\n",
        "\n",
        "El error utilizado en SVM se define como:\n",
        "\n",
        ">$E_{SVM}(b,w) = \\frac{1}{N} \\sum_{n=1}^{N} max(1 -y_n( w^T x_n+ b),0)$\n",
        "\n",
        "donde $N$ es el número de muestras de entrenamiento, $x_n$ es una muestra de entrenamiento, $y_n$ es su etiqueta correspondiente, $w$ es el vector de pesos y $b$ es el sesgo del hiperplano de separación.\n",
        "\n",
        "La fucnión $max(1 -y_n( w^T x_n+ b),0)$ es la función de pérdida *hinge*, que mide la distancia entre una muestra y el hiperplano de separación. Si la muestra está clasificada correctamente, entonces $y_n(w^T x_n + b) \\geq 1$) y el error es cero. Si la muestra está clasificada incorrectamente, entonces $y_n(w^T x_n + b) < 1$) y el error es proporcional a la distancia entre la muestra y el hiperplano de separación.\n",
        "\n",
        "Para encontrar los valores óptimos de $w$ y $b$ que minimizan este error, se utiliza la optimización cuadrática *QP*. El objetivo es encontrar los valores de $w$ y $b$ que minimizan el error, a la vez que se penalizan los valores grandes de $w$ para evitar el sobreajuste. Esta penalización se logra a través del término de regularización $w^T w$ en la función de pérdida.\n",
        "\n",
        "En resumen, el modelo de SVM con margen suave utiliza la función de pérdida hinge y un término de regularización para encontrar un hiperplano de separación óptimo que maximice el margen entre las clases y permita cierto grado de error de clasificación. Por lo tanto se puede observar este modelo como un caso especial de clasificación con regularización utilizando la función de pérdida $E_{SVM}$ y $w^{T}w$ como el regularizador."
      ],
      "metadata": {
        "id": "0ALoyasqzCEA"
      }
    },
    {
      "cell_type": "markdown",
      "source": [
        "#### <font color='blue'>6)  Discuta todos los parámetros y el tipo de regularización usada en el ajuste de los modelos seleccionados. Justificar la idoneidad de la regularización elegida. 1 punto."
      ],
      "metadata": {
        "id": "S4Lo3fC0g6Cv"
      }
    },
    {
      "cell_type": "markdown",
      "source": [
        ">**Regularización**"
      ],
      "metadata": {
        "id": "CS5zDuK-fFah"
      }
    },
    {
      "cell_type": "markdown",
      "source": [
        "La regularización L2 y la regularización L1 son dos técnicas de regularización en aprendizaje automático para evitar el sobreajuste de los modelos y ofrecer un ajuste del modelo con menos variabilidad descontrolada. Ambas se basas en aplicar unos parámetros de regularización sobre el modelo durante el entrenamiento.\n",
        "\n",
        "La regularización L2 (Ridge) tarata de penalizar los valores grandes de los coeficientes del modelo y tiende a reducirlos. Este tipo de regularización consigue que los coeficientes no nulos tienden a disminuir hacia cero, pero nunca se anulan por completo. Esto hace que la regularización L2 sea menos propensa a seleccionar características irrelevantes, anulando las importantes y por tanto sea más adecuada para conjuntos de datos con muchas características.\n",
        "\n",
        "La regularización L1 (Lasso) penaliza los valores grandes de los coeficientes y también tiende a reducirlos. Esta regularización puede anular completamente los coeficientes y convertirlos en cero, lo que implica que puede elegir las características que consider más relevantes y anular las que considera menos relevantes. Esto hace que la regularización L1 sea útil en situaciones en las que se desea realizar una selección de características, pero también hace que no sea adecuada para conjuntos de datos donde se piensa que todas o casi todas las características son relevantes.\n",
        "\n",
        "En un conjunto de datos de clasificación con clases desbalanceadas, como ocurre con este conjunto de datos, la regularización L2 tiende a funcionar mejor que la regularización L1 ya que la regularización L2 penaliza los coeficientes de manera proporcional a su magnitud, sin tener en cuenta la clase a la que pertenecen las muestras y no anula variables del conjunto que podrían ser importantes para identificar correctemante la clase mayoritaria. Esto permite que el modelo se ajuste de manera más equilibrada a todas las clases, evitando un sesgo hacia la clase mayoritaria.\n",
        "\n",
        "Por lo tanto en ambos modelos voy a emplear la regularización L2(Ridge)."
      ],
      "metadata": {
        "id": "AWTA9MJUFq_1"
      }
    },
    {
      "cell_type": "markdown",
      "source": [
        ">**Ajuste de Regresión Logística**"
      ],
      "metadata": {
        "id": "mwP7NP6BGGSc"
      }
    },
    {
      "cell_type": "markdown",
      "source": [
        "Voy a emplear el tipo de regularización L2 (Ridge) utilizando el parámetro `penalty` con el valor `'l2'` que representa esta regularización. Como he explicado antes, he elegido la regularización L2 ya que L1 tiende a establecer el valor de los pesos de regularizción a cero de las variables que considera menos relevantes y debido al significativo desbalanceo de clases que existe en el conjunto de datos, puede haber variables relevantes para la clase minoritaria que se vean perjudicadas o anuladas por la regularización. Por lo tanto como L2 tiene en cuenta todas las variables, he elegido esta regularización. La constante de regularización se elige experimentalmente con diversos valores incluyendo el valor cero para comparar con modelos que no implementen regularización también."
      ],
      "metadata": {
        "id": "l8jKMDwtaCTF"
      }
    },
    {
      "cell_type": "markdown",
      "source": [
        "Prámetros del modelo de Regresión Logística empleando SGD con la clase `SGDClassifier`:\n",
        "\n",
        "*   Loss: especifica la función de pérdida utilizada para la regresión logística. En este caso, se utiliza 'log_loss' para la regresión logística.\n",
        "\n",
        "*   Penalty: especifica el tipo de regularización a utilizar, como L1 o L2.\n",
        "\n",
        "*   Alpha: es el parámetro de regularización en la Regresión Logística con SGD. Controla la fuerza de regularización que se pretende usar, cuanto mayor es el valor alpha, más regularización se aplica.\n",
        "\n",
        "*   Learning Rate: la tasa de aprendizaje utilizada en el Descenso de Gradiente Estocástico. Determina el tamaño del paso que se toma en cada iteración del algoritmo. Se utiliza learning_rate para determinar el tipo (constante, adaptativo...) y eta0 para darle un valor al leraning rate. En nuestro caso usaremos constante para el tipo y probaremos con distintos valores para poder comparar y escoger con el que se obtengan mejores resultados.\n",
        "\n",
        "*   Max_iter: número máximo de iteraciones.\n",
        "\n",
        "*   Random_state: establece la semilla para los números aleatorios generados para desordenar los datos.\n",
        "*   Shuffle: determina si se desordenan las muestras después de cada época.\n",
        "*   tol: tolerancia usada para el criterio de parada y convergencia del algoritmo de SGD. En esta clase este parámetro se utiliza para determinar si el algoritmo ha convergido comparando la disminución de la función de pérdida. Un valor menor podría aumentar el tiempo de cómputo y un valor mayor de este parámetro podría hacer que el algoritmo parase antes de converger al óptimo.\n",
        "*   class_weight: Parámetro que permite determinar los pesos para cada clase y penalizar los errores y valorar los aciertos en la clase con mayor peso"
      ],
      "metadata": {
        "id": "pBg7uzexdQ9z"
      }
    },
    {
      "cell_type": "markdown",
      "source": [
        ">**Ajuste SVM kernel lineal**"
      ],
      "metadata": {
        "id": "tuL4o3oUS06E"
      }
    },
    {
      "cell_type": "markdown",
      "source": [
        "Prámetros del modelo de Regresión Logística empleando SGD con la clase `SVC` de `sklearn.svm`:\n",
        "*   Kernel: Tipode kernel utilizado en el algoritmo SVM. Con el kernel lineal se obtiene un modelo lineal.\n",
        "*   Random_state: establece la semilla para los números aleatorios generados para desordenar los datos.\n",
        "*   tol: tolerancia usada para el criterio de parada de convergencia.\n",
        "*   class_weight: Parámetro que permite determinar los pesos para cada clase y penalizar los errores y valorar los aciertos en la clase con mayor peso (parámetro parecido al que se usa en la clase `SGDClassifier`)\n",
        "\n",
        "*   C: es el parámetro de regularización. Controla la fuerza de regularización que se pretende usar, cuanto mayor es el valor alpha, más regularización se aplica.\n",
        "\n",
        "*   Max_iter: número máximo de iteraciones. Si se establece a -1 se utilizan otros criterios de parada y la convergencia del algoritmo.\n",
        "\n",
        "La clase `SVC` implementa el tipo de regularización L2 (Ridge) que se ajusta con el parámetro de entrada C. Como el proceso de regularización es parte del algoritmo utilizado en este modelo no se puede eliminar la regularización, por lo tanto la constante C no puede tomar el valor de 0 en este modelo."
      ],
      "metadata": {
        "id": "IIydO5noS06E"
      }
    },
    {
      "cell_type": "markdown",
      "source": [
        "Debido al desbalanceo que ya he explicado de ambas clases, los modelos que se entrenen podrían tender a clasificar casi todas las muestras como la clase mayoritaria. Para evitar esto se puede aplicar unos pesos de penalización en el algoritmo a cada clase para penalizar los errores de la clase con mayor peso y favorecer los aciertos de la clase con mayor peso. De esta forma se puede evitar que el clasificador identifique peor en gran medida la clase minoritaria que la mayoritaria."
      ],
      "metadata": {
        "id": "lG9RAe6DijEv"
      }
    },
    {
      "cell_type": "markdown",
      "source": [
        "#### <font color='blue'>7)  Selección de la mejor hipótesis para el problema. Discuta el enfoque seguido y el criterio de selección usado. ¿Cúal es su error $E_{out}$? 1 punto."
      ],
      "metadata": {
        "id": "wUknqHBtg8DP"
      }
    },
    {
      "cell_type": "markdown",
      "source": [
        ">**Ajuste de Regresión Logística**"
      ],
      "metadata": {
        "id": "7LX7lePqjzBA"
      }
    },
    {
      "cell_type": "markdown",
      "source": [
        "Los hiperparámetros que voy a elegir experimentalmente utilizando la validación cruzada, explicada anteriormente, para el modelo de Regresión logística son:\n",
        "\n",
        "\n",
        "*   Tasa de aprendizaje (learning rate)\n",
        "*   Constante de regularización de tipo L2 (Ridge)\n",
        "*   Pesos de penalización de las clases\n",
        "\n"
      ],
      "metadata": {
        "id": "TD6eJCLIiGk5"
      }
    },
    {
      "cell_type": "markdown",
      "source": [
        "Tras probar con valores extremos he conseguido acotar los valores de cada hiperparámetro para poder mostrar sus resultados en una tabla y elegir los hiperparámetros con los que se obtiene un mejor modelo entrenado de Regresión logística.  \n",
        "\n",
        "En la tabla se representan las métricas que he comentado anteriormente junto con la función de pérdida, calculados medainte la validación cruzada explicada en los apartados anteriores."
      ],
      "metadata": {
        "id": "ibYVAlHHjUXm"
      }
    },
    {
      "cell_type": "code",
      "source": [
        "#Inicializar listas para guardar valores para la tabla\n",
        "tasasTabla = []\n",
        "alphaTabla = []\n",
        "class_weightTabla = []\n",
        "\n",
        "funcionPerdidaTabla = []\n",
        "accuracyTabla = []\n",
        "recallTabla = []\n",
        "f1Tabla = []\n",
        "precisionTabla = []\n",
        "\n",
        "# métricas para utilizar\n",
        "scoringRL = {'accuracy': 'accuracy',\n",
        "           'precision': make_scorer(precision_score, zero_division = 0),\n",
        "            # zero_division = 0 sirve para que cuando el calsificador no predice ninguan muestra\n",
        "            # como una de las clases, la métrica sea 0 directamente y eliminar un Warning que indicaba justo eso\n",
        "           'recall': make_scorer(recall_score),\n",
        "           'f1_score': make_scorer(f1_score),\n",
        "           'neg_log_loss': 'neg_log_loss',\n",
        "           # Utilizo la función de pérdida negativa ya que cross validate usa funciones de evaluación que intenten\n",
        "           # maximizar y log_loss sirve para minimizar, por eso uso la función neg_log_loss que es equivalente pero para maximizar\n",
        "           }\n",
        "\n",
        "#Ejecutar el algoritmo con valores distintos para lr\n",
        "tasas = [0.01, 0.1, 1]\n",
        "alphaValues = [0, 0.001, 0.01]\n",
        "alpha = 0.001\n",
        "tipoRegul = 'l2'\n",
        "class_weight_values = [{0: 1, 1: 3},{0: 1, 1: 4},{0: 1, 1: 5}]\n",
        "max_iters = 1000\n",
        "for lr in tasas:\n",
        "  for alpha in alphaValues:\n",
        "    for class_weight_val in class_weight_values:\n",
        "      # Crear el modelo de Regresión Logística SGD con los parámetros elegidos\n",
        "      RL_SGD_modelo = SGDClassifier(\n",
        "          loss = 'log_loss', # Determinar lunción de pérdida asociada al modelo de regresión logística (log_loss)\n",
        "          max_iter = max_iters, #número máximo de iteraciones\n",
        "          random_state=1, # Establecer semilla para los numero aleatorios generados para desordenar los datos\n",
        "          shuffle = True, # Desordenar muestras después de cada época,\n",
        "          learning_rate = 'constant', # Determinar que el learning rate sea constante, elegido por parámetro eta0\n",
        "          eta0 = lr, # Elegir tasa de aprendizaje constante que utilizará SGD\n",
        "          penalty = tipoRegul, # Elegir tipo de regularización\n",
        "          alpha = alpha, # parametro de reularización\n",
        "          tol = 1e-3, # tolerancia del criterio de parada por defecto\n",
        "          class_weight=class_weight_val # Determina los pesos de las clases\n",
        "          )\n",
        "      # Crear el objeto K-fold con 10 divisiones\n",
        "      kfold = StratifiedKFold(\n",
        "          n_splits=10, # Número de particiones (folds)\n",
        "          random_state=0, # Semilla para los números aleatorios\n",
        "          shuffle=True #Desordenar por clases antes de particionar el conjunto\n",
        "          )\n",
        "      # Realizar validación cruzada y obtener los resultados de varias métricas\n",
        "      results = cross_validate(RL_SGD_modelo, preproc_trainX, trainY, cv=kfold, scoring=scoringRL)\n",
        "\n",
        "      #guardar datos para la tabla\n",
        "      tasasTabla.append(lr)\n",
        "      alphaTabla.append(alpha)\n",
        "      class_weightTabla.append(class_weight_val)\n",
        "\n",
        "      accuracyTabla.append(results['test_accuracy'].mean())\n",
        "      precisionTabla.append(results['test_precision'].mean())\n",
        "      recallTabla.append(results['test_recall'].mean())\n",
        "      f1Tabla.append(results['test_f1_score'].mean())\n",
        "      funcionPerdidaTabla.append(-results['test_neg_log_loss'].mean())#  Cambiar de signo la funcion de pérdida negativa\n",
        "\n",
        "\n",
        "#Crear DataFrame y mostrarlo\n",
        "tableFrame = pd.DataFrame({'Tasa de aprendizaje': tasasTabla, 'Parámetro de regularización': alphaTabla,\n",
        "                          'Class weights (penalización de clases)': class_weightTabla,'Error de validación (función de pérdida)':funcionPerdidaTabla,\n",
        "                           'Accuracy':accuracyTabla,'Precision': precisionTabla,'Recall':recallTabla,'F1-Score':f1Tabla})\n",
        "display(tableFrame)"
      ],
      "metadata": {
        "colab": {
          "base_uri": "https://localhost:8080/",
          "height": 896
        },
        "id": "H5TYiCo2zHGO",
        "outputId": "0c4c57b5-bd0a-488b-bdec-afd52136b319"
      },
      "execution_count": null,
      "outputs": [
        {
          "output_type": "display_data",
          "data": {
            "text/plain": [
              "    Tasa de aprendizaje  Parámetro de regularización  \\\n",
              "0                  0.01                        0.000   \n",
              "1                  0.01                        0.000   \n",
              "2                  0.01                        0.000   \n",
              "3                  0.01                        0.001   \n",
              "4                  0.01                        0.001   \n",
              "5                  0.01                        0.001   \n",
              "6                  0.01                        0.010   \n",
              "7                  0.01                        0.010   \n",
              "8                  0.01                        0.010   \n",
              "9                  0.10                        0.000   \n",
              "10                 0.10                        0.000   \n",
              "11                 0.10                        0.000   \n",
              "12                 0.10                        0.001   \n",
              "13                 0.10                        0.001   \n",
              "14                 0.10                        0.001   \n",
              "15                 0.10                        0.010   \n",
              "16                 0.10                        0.010   \n",
              "17                 0.10                        0.010   \n",
              "18                 1.00                        0.000   \n",
              "19                 1.00                        0.000   \n",
              "20                 1.00                        0.000   \n",
              "21                 1.00                        0.001   \n",
              "22                 1.00                        0.001   \n",
              "23                 1.00                        0.001   \n",
              "24                 1.00                        0.010   \n",
              "25                 1.00                        0.010   \n",
              "26                 1.00                        0.010   \n",
              "\n",
              "   Class weights (penalización de clases)  \\\n",
              "0                            {0: 1, 1: 3}   \n",
              "1                            {0: 1, 1: 4}   \n",
              "2                            {0: 1, 1: 5}   \n",
              "3                            {0: 1, 1: 3}   \n",
              "4                            {0: 1, 1: 4}   \n",
              "5                            {0: 1, 1: 5}   \n",
              "6                            {0: 1, 1: 3}   \n",
              "7                            {0: 1, 1: 4}   \n",
              "8                            {0: 1, 1: 5}   \n",
              "9                            {0: 1, 1: 3}   \n",
              "10                           {0: 1, 1: 4}   \n",
              "11                           {0: 1, 1: 5}   \n",
              "12                           {0: 1, 1: 3}   \n",
              "13                           {0: 1, 1: 4}   \n",
              "14                           {0: 1, 1: 5}   \n",
              "15                           {0: 1, 1: 3}   \n",
              "16                           {0: 1, 1: 4}   \n",
              "17                           {0: 1, 1: 5}   \n",
              "18                           {0: 1, 1: 3}   \n",
              "19                           {0: 1, 1: 4}   \n",
              "20                           {0: 1, 1: 5}   \n",
              "21                           {0: 1, 1: 3}   \n",
              "22                           {0: 1, 1: 4}   \n",
              "23                           {0: 1, 1: 5}   \n",
              "24                           {0: 1, 1: 3}   \n",
              "25                           {0: 1, 1: 4}   \n",
              "26                           {0: 1, 1: 5}   \n",
              "\n",
              "    Error de validación (función de pérdida)  Accuracy  Precision    Recall  \\\n",
              "0                                   0.247525  0.927588   0.225878  0.078413   \n",
              "1                                   0.267856  0.919315   0.256425  0.144105   \n",
              "2                                   0.288556  0.909004   0.223444  0.200931   \n",
              "3                                   0.257553  0.927460   0.254111  0.080452   \n",
              "4                                   0.284935  0.916639   0.269183  0.173404   \n",
              "5                                   0.293214  0.909763   0.226909  0.183998   \n",
              "6                                   0.258147  0.937134   0.092460  0.021277   \n",
              "7                                   0.296694  0.927588   0.179140  0.095434   \n",
              "8                                   0.325768  0.914985   0.253661  0.150089   \n",
              "9                                   0.320103  0.881406   0.232100  0.135771   \n",
              "10                                  0.332800  0.881276   0.282197  0.159131   \n",
              "11                                  0.258688  0.920840   0.252528  0.114229   \n",
              "12                                  0.303714  0.887006   0.150242  0.091445   \n",
              "13                                  0.232805  0.933315   0.177692  0.036082   \n",
              "14                                  0.274386  0.904178   0.277607  0.121055   \n",
              "15                                  0.225049  0.938153   0.000000  0.000000   \n",
              "16                                  0.245156  0.925684   0.022523  0.041755   \n",
              "17                                  0.248473  0.925302   0.035152  0.043794   \n",
              "18                                  1.106978  0.885198   0.177915  0.183511   \n",
              "19                                  1.964063  0.807608   0.185493  0.312766   \n",
              "20                                  3.027352  0.783696   0.151940  0.337278   \n",
              "21                                  0.822859  0.928990   0.060346  0.029787   \n",
              "22                                  1.081049  0.872367   0.115017  0.170833   \n",
              "23                                  1.202272  0.886239   0.120986  0.133954   \n",
              "24                                  0.671373  0.905073   0.019337  0.070213   \n",
              "25                                  0.789767  0.897949   0.031808  0.082979   \n",
              "26                                  1.266595  0.845644   0.045039  0.131871   \n",
              "\n",
              "    F1-Score  \n",
              "0   0.104360  \n",
              "1   0.155855  \n",
              "2   0.196570  \n",
              "3   0.109822  \n",
              "4   0.187848  \n",
              "5   0.184669  \n",
              "6   0.032867  \n",
              "7   0.117247  \n",
              "8   0.161730  \n",
              "9   0.094162  \n",
              "10  0.126917  \n",
              "11  0.139068  \n",
              "12  0.040095  \n",
              "13  0.051994  \n",
              "14  0.083803  \n",
              "15  0.000000  \n",
              "16  0.027628  \n",
              "17  0.026068  \n",
              "18  0.116972  \n",
              "19  0.148905  \n",
              "20  0.139984  \n",
              "21  0.037213  \n",
              "22  0.110654  \n",
              "23  0.084701  \n",
              "24  0.026151  \n",
              "25  0.024233  \n",
              "26  0.043986  "
            ],
            "text/html": [
              "\n",
              "  <div id=\"df-9635872b-cb47-4acc-8539-ffe4780ba828\">\n",
              "    <div class=\"colab-df-container\">\n",
              "      <div>\n",
              "<style scoped>\n",
              "    .dataframe tbody tr th:only-of-type {\n",
              "        vertical-align: middle;\n",
              "    }\n",
              "\n",
              "    .dataframe tbody tr th {\n",
              "        vertical-align: top;\n",
              "    }\n",
              "\n",
              "    .dataframe thead th {\n",
              "        text-align: right;\n",
              "    }\n",
              "</style>\n",
              "<table border=\"1\" class=\"dataframe\">\n",
              "  <thead>\n",
              "    <tr style=\"text-align: right;\">\n",
              "      <th></th>\n",
              "      <th>Tasa de aprendizaje</th>\n",
              "      <th>Parámetro de regularización</th>\n",
              "      <th>Class weights (penalización de clases)</th>\n",
              "      <th>Error de validación (función de pérdida)</th>\n",
              "      <th>Accuracy</th>\n",
              "      <th>Precision</th>\n",
              "      <th>Recall</th>\n",
              "      <th>F1-Score</th>\n",
              "    </tr>\n",
              "  </thead>\n",
              "  <tbody>\n",
              "    <tr>\n",
              "      <th>0</th>\n",
              "      <td>0.01</td>\n",
              "      <td>0.000</td>\n",
              "      <td>{0: 1, 1: 3}</td>\n",
              "      <td>0.247525</td>\n",
              "      <td>0.927588</td>\n",
              "      <td>0.225878</td>\n",
              "      <td>0.078413</td>\n",
              "      <td>0.104360</td>\n",
              "    </tr>\n",
              "    <tr>\n",
              "      <th>1</th>\n",
              "      <td>0.01</td>\n",
              "      <td>0.000</td>\n",
              "      <td>{0: 1, 1: 4}</td>\n",
              "      <td>0.267856</td>\n",
              "      <td>0.919315</td>\n",
              "      <td>0.256425</td>\n",
              "      <td>0.144105</td>\n",
              "      <td>0.155855</td>\n",
              "    </tr>\n",
              "    <tr>\n",
              "      <th>2</th>\n",
              "      <td>0.01</td>\n",
              "      <td>0.000</td>\n",
              "      <td>{0: 1, 1: 5}</td>\n",
              "      <td>0.288556</td>\n",
              "      <td>0.909004</td>\n",
              "      <td>0.223444</td>\n",
              "      <td>0.200931</td>\n",
              "      <td>0.196570</td>\n",
              "    </tr>\n",
              "    <tr>\n",
              "      <th>3</th>\n",
              "      <td>0.01</td>\n",
              "      <td>0.001</td>\n",
              "      <td>{0: 1, 1: 3}</td>\n",
              "      <td>0.257553</td>\n",
              "      <td>0.927460</td>\n",
              "      <td>0.254111</td>\n",
              "      <td>0.080452</td>\n",
              "      <td>0.109822</td>\n",
              "    </tr>\n",
              "    <tr>\n",
              "      <th>4</th>\n",
              "      <td>0.01</td>\n",
              "      <td>0.001</td>\n",
              "      <td>{0: 1, 1: 4}</td>\n",
              "      <td>0.284935</td>\n",
              "      <td>0.916639</td>\n",
              "      <td>0.269183</td>\n",
              "      <td>0.173404</td>\n",
              "      <td>0.187848</td>\n",
              "    </tr>\n",
              "    <tr>\n",
              "      <th>5</th>\n",
              "      <td>0.01</td>\n",
              "      <td>0.001</td>\n",
              "      <td>{0: 1, 1: 5}</td>\n",
              "      <td>0.293214</td>\n",
              "      <td>0.909763</td>\n",
              "      <td>0.226909</td>\n",
              "      <td>0.183998</td>\n",
              "      <td>0.184669</td>\n",
              "    </tr>\n",
              "    <tr>\n",
              "      <th>6</th>\n",
              "      <td>0.01</td>\n",
              "      <td>0.010</td>\n",
              "      <td>{0: 1, 1: 3}</td>\n",
              "      <td>0.258147</td>\n",
              "      <td>0.937134</td>\n",
              "      <td>0.092460</td>\n",
              "      <td>0.021277</td>\n",
              "      <td>0.032867</td>\n",
              "    </tr>\n",
              "    <tr>\n",
              "      <th>7</th>\n",
              "      <td>0.01</td>\n",
              "      <td>0.010</td>\n",
              "      <td>{0: 1, 1: 4}</td>\n",
              "      <td>0.296694</td>\n",
              "      <td>0.927588</td>\n",
              "      <td>0.179140</td>\n",
              "      <td>0.095434</td>\n",
              "      <td>0.117247</td>\n",
              "    </tr>\n",
              "    <tr>\n",
              "      <th>8</th>\n",
              "      <td>0.01</td>\n",
              "      <td>0.010</td>\n",
              "      <td>{0: 1, 1: 5}</td>\n",
              "      <td>0.325768</td>\n",
              "      <td>0.914985</td>\n",
              "      <td>0.253661</td>\n",
              "      <td>0.150089</td>\n",
              "      <td>0.161730</td>\n",
              "    </tr>\n",
              "    <tr>\n",
              "      <th>9</th>\n",
              "      <td>0.10</td>\n",
              "      <td>0.000</td>\n",
              "      <td>{0: 1, 1: 3}</td>\n",
              "      <td>0.320103</td>\n",
              "      <td>0.881406</td>\n",
              "      <td>0.232100</td>\n",
              "      <td>0.135771</td>\n",
              "      <td>0.094162</td>\n",
              "    </tr>\n",
              "    <tr>\n",
              "      <th>10</th>\n",
              "      <td>0.10</td>\n",
              "      <td>0.000</td>\n",
              "      <td>{0: 1, 1: 4}</td>\n",
              "      <td>0.332800</td>\n",
              "      <td>0.881276</td>\n",
              "      <td>0.282197</td>\n",
              "      <td>0.159131</td>\n",
              "      <td>0.126917</td>\n",
              "    </tr>\n",
              "    <tr>\n",
              "      <th>11</th>\n",
              "      <td>0.10</td>\n",
              "      <td>0.000</td>\n",
              "      <td>{0: 1, 1: 5}</td>\n",
              "      <td>0.258688</td>\n",
              "      <td>0.920840</td>\n",
              "      <td>0.252528</td>\n",
              "      <td>0.114229</td>\n",
              "      <td>0.139068</td>\n",
              "    </tr>\n",
              "    <tr>\n",
              "      <th>12</th>\n",
              "      <td>0.10</td>\n",
              "      <td>0.001</td>\n",
              "      <td>{0: 1, 1: 3}</td>\n",
              "      <td>0.303714</td>\n",
              "      <td>0.887006</td>\n",
              "      <td>0.150242</td>\n",
              "      <td>0.091445</td>\n",
              "      <td>0.040095</td>\n",
              "    </tr>\n",
              "    <tr>\n",
              "      <th>13</th>\n",
              "      <td>0.10</td>\n",
              "      <td>0.001</td>\n",
              "      <td>{0: 1, 1: 4}</td>\n",
              "      <td>0.232805</td>\n",
              "      <td>0.933315</td>\n",
              "      <td>0.177692</td>\n",
              "      <td>0.036082</td>\n",
              "      <td>0.051994</td>\n",
              "    </tr>\n",
              "    <tr>\n",
              "      <th>14</th>\n",
              "      <td>0.10</td>\n",
              "      <td>0.001</td>\n",
              "      <td>{0: 1, 1: 5}</td>\n",
              "      <td>0.274386</td>\n",
              "      <td>0.904178</td>\n",
              "      <td>0.277607</td>\n",
              "      <td>0.121055</td>\n",
              "      <td>0.083803</td>\n",
              "    </tr>\n",
              "    <tr>\n",
              "      <th>15</th>\n",
              "      <td>0.10</td>\n",
              "      <td>0.010</td>\n",
              "      <td>{0: 1, 1: 3}</td>\n",
              "      <td>0.225049</td>\n",
              "      <td>0.938153</td>\n",
              "      <td>0.000000</td>\n",
              "      <td>0.000000</td>\n",
              "      <td>0.000000</td>\n",
              "    </tr>\n",
              "    <tr>\n",
              "      <th>16</th>\n",
              "      <td>0.10</td>\n",
              "      <td>0.010</td>\n",
              "      <td>{0: 1, 1: 4}</td>\n",
              "      <td>0.245156</td>\n",
              "      <td>0.925684</td>\n",
              "      <td>0.022523</td>\n",
              "      <td>0.041755</td>\n",
              "      <td>0.027628</td>\n",
              "    </tr>\n",
              "    <tr>\n",
              "      <th>17</th>\n",
              "      <td>0.10</td>\n",
              "      <td>0.010</td>\n",
              "      <td>{0: 1, 1: 5}</td>\n",
              "      <td>0.248473</td>\n",
              "      <td>0.925302</td>\n",
              "      <td>0.035152</td>\n",
              "      <td>0.043794</td>\n",
              "      <td>0.026068</td>\n",
              "    </tr>\n",
              "    <tr>\n",
              "      <th>18</th>\n",
              "      <td>1.00</td>\n",
              "      <td>0.000</td>\n",
              "      <td>{0: 1, 1: 3}</td>\n",
              "      <td>1.106978</td>\n",
              "      <td>0.885198</td>\n",
              "      <td>0.177915</td>\n",
              "      <td>0.183511</td>\n",
              "      <td>0.116972</td>\n",
              "    </tr>\n",
              "    <tr>\n",
              "      <th>19</th>\n",
              "      <td>1.00</td>\n",
              "      <td>0.000</td>\n",
              "      <td>{0: 1, 1: 4}</td>\n",
              "      <td>1.964063</td>\n",
              "      <td>0.807608</td>\n",
              "      <td>0.185493</td>\n",
              "      <td>0.312766</td>\n",
              "      <td>0.148905</td>\n",
              "    </tr>\n",
              "    <tr>\n",
              "      <th>20</th>\n",
              "      <td>1.00</td>\n",
              "      <td>0.000</td>\n",
              "      <td>{0: 1, 1: 5}</td>\n",
              "      <td>3.027352</td>\n",
              "      <td>0.783696</td>\n",
              "      <td>0.151940</td>\n",
              "      <td>0.337278</td>\n",
              "      <td>0.139984</td>\n",
              "    </tr>\n",
              "    <tr>\n",
              "      <th>21</th>\n",
              "      <td>1.00</td>\n",
              "      <td>0.001</td>\n",
              "      <td>{0: 1, 1: 3}</td>\n",
              "      <td>0.822859</td>\n",
              "      <td>0.928990</td>\n",
              "      <td>0.060346</td>\n",
              "      <td>0.029787</td>\n",
              "      <td>0.037213</td>\n",
              "    </tr>\n",
              "    <tr>\n",
              "      <th>22</th>\n",
              "      <td>1.00</td>\n",
              "      <td>0.001</td>\n",
              "      <td>{0: 1, 1: 4}</td>\n",
              "      <td>1.081049</td>\n",
              "      <td>0.872367</td>\n",
              "      <td>0.115017</td>\n",
              "      <td>0.170833</td>\n",
              "      <td>0.110654</td>\n",
              "    </tr>\n",
              "    <tr>\n",
              "      <th>23</th>\n",
              "      <td>1.00</td>\n",
              "      <td>0.001</td>\n",
              "      <td>{0: 1, 1: 5}</td>\n",
              "      <td>1.202272</td>\n",
              "      <td>0.886239</td>\n",
              "      <td>0.120986</td>\n",
              "      <td>0.133954</td>\n",
              "      <td>0.084701</td>\n",
              "    </tr>\n",
              "    <tr>\n",
              "      <th>24</th>\n",
              "      <td>1.00</td>\n",
              "      <td>0.010</td>\n",
              "      <td>{0: 1, 1: 3}</td>\n",
              "      <td>0.671373</td>\n",
              "      <td>0.905073</td>\n",
              "      <td>0.019337</td>\n",
              "      <td>0.070213</td>\n",
              "      <td>0.026151</td>\n",
              "    </tr>\n",
              "    <tr>\n",
              "      <th>25</th>\n",
              "      <td>1.00</td>\n",
              "      <td>0.010</td>\n",
              "      <td>{0: 1, 1: 4}</td>\n",
              "      <td>0.789767</td>\n",
              "      <td>0.897949</td>\n",
              "      <td>0.031808</td>\n",
              "      <td>0.082979</td>\n",
              "      <td>0.024233</td>\n",
              "    </tr>\n",
              "    <tr>\n",
              "      <th>26</th>\n",
              "      <td>1.00</td>\n",
              "      <td>0.010</td>\n",
              "      <td>{0: 1, 1: 5}</td>\n",
              "      <td>1.266595</td>\n",
              "      <td>0.845644</td>\n",
              "      <td>0.045039</td>\n",
              "      <td>0.131871</td>\n",
              "      <td>0.043986</td>\n",
              "    </tr>\n",
              "  </tbody>\n",
              "</table>\n",
              "</div>\n",
              "      <button class=\"colab-df-convert\" onclick=\"convertToInteractive('df-9635872b-cb47-4acc-8539-ffe4780ba828')\"\n",
              "              title=\"Convert this dataframe to an interactive table.\"\n",
              "              style=\"display:none;\">\n",
              "        \n",
              "  <svg xmlns=\"http://www.w3.org/2000/svg\" height=\"24px\"viewBox=\"0 0 24 24\"\n",
              "       width=\"24px\">\n",
              "    <path d=\"M0 0h24v24H0V0z\" fill=\"none\"/>\n",
              "    <path d=\"M18.56 5.44l.94 2.06.94-2.06 2.06-.94-2.06-.94-.94-2.06-.94 2.06-2.06.94zm-11 1L8.5 8.5l.94-2.06 2.06-.94-2.06-.94L8.5 2.5l-.94 2.06-2.06.94zm10 10l.94 2.06.94-2.06 2.06-.94-2.06-.94-.94-2.06-.94 2.06-2.06.94z\"/><path d=\"M17.41 7.96l-1.37-1.37c-.4-.4-.92-.59-1.43-.59-.52 0-1.04.2-1.43.59L10.3 9.45l-7.72 7.72c-.78.78-.78 2.05 0 2.83L4 21.41c.39.39.9.59 1.41.59.51 0 1.02-.2 1.41-.59l7.78-7.78 2.81-2.81c.8-.78.8-2.07 0-2.86zM5.41 20L4 18.59l7.72-7.72 1.47 1.35L5.41 20z\"/>\n",
              "  </svg>\n",
              "      </button>\n",
              "      \n",
              "  <style>\n",
              "    .colab-df-container {\n",
              "      display:flex;\n",
              "      flex-wrap:wrap;\n",
              "      gap: 12px;\n",
              "    }\n",
              "\n",
              "    .colab-df-convert {\n",
              "      background-color: #E8F0FE;\n",
              "      border: none;\n",
              "      border-radius: 50%;\n",
              "      cursor: pointer;\n",
              "      display: none;\n",
              "      fill: #1967D2;\n",
              "      height: 32px;\n",
              "      padding: 0 0 0 0;\n",
              "      width: 32px;\n",
              "    }\n",
              "\n",
              "    .colab-df-convert:hover {\n",
              "      background-color: #E2EBFA;\n",
              "      box-shadow: 0px 1px 2px rgba(60, 64, 67, 0.3), 0px 1px 3px 1px rgba(60, 64, 67, 0.15);\n",
              "      fill: #174EA6;\n",
              "    }\n",
              "\n",
              "    [theme=dark] .colab-df-convert {\n",
              "      background-color: #3B4455;\n",
              "      fill: #D2E3FC;\n",
              "    }\n",
              "\n",
              "    [theme=dark] .colab-df-convert:hover {\n",
              "      background-color: #434B5C;\n",
              "      box-shadow: 0px 1px 3px 1px rgba(0, 0, 0, 0.15);\n",
              "      filter: drop-shadow(0px 1px 2px rgba(0, 0, 0, 0.3));\n",
              "      fill: #FFFFFF;\n",
              "    }\n",
              "  </style>\n",
              "\n",
              "      <script>\n",
              "        const buttonEl =\n",
              "          document.querySelector('#df-9635872b-cb47-4acc-8539-ffe4780ba828 button.colab-df-convert');\n",
              "        buttonEl.style.display =\n",
              "          google.colab.kernel.accessAllowed ? 'block' : 'none';\n",
              "\n",
              "        async function convertToInteractive(key) {\n",
              "          const element = document.querySelector('#df-9635872b-cb47-4acc-8539-ffe4780ba828');\n",
              "          const dataTable =\n",
              "            await google.colab.kernel.invokeFunction('convertToInteractive',\n",
              "                                                     [key], {});\n",
              "          if (!dataTable) return;\n",
              "\n",
              "          const docLinkHtml = 'Like what you see? Visit the ' +\n",
              "            '<a target=\"_blank\" href=https://colab.research.google.com/notebooks/data_table.ipynb>data table notebook</a>'\n",
              "            + ' to learn more about interactive tables.';\n",
              "          element.innerHTML = '';\n",
              "          dataTable['output_type'] = 'display_data';\n",
              "          await google.colab.output.renderOutput(dataTable, element);\n",
              "          const docLink = document.createElement('div');\n",
              "          docLink.innerHTML = docLinkHtml;\n",
              "          element.appendChild(docLink);\n",
              "        }\n",
              "      </script>\n",
              "    </div>\n",
              "  </div>\n",
              "  "
            ]
          },
          "metadata": {}
        }
      ]
    },
    {
      "cell_type": "markdown",
      "source": [
        "Para elegir los hiperparámetros hay que observar las métricas en detalle, ya que como hemos explicado antes la métrica accuracy en este problema no tiene en consideración el desbalanceo de las clases y por tanto hay que observar también las otras métricas obtenidas para asegurarse de que ambas clases son identificadas de igual forma y el clasificador no tienda a clasificar todas las muestras como la clase mayoritaria. Como podemos observar en la tabla, el clasficador con mejor error de validación y accuracy que ha obtenido el algoritmo es el clasificador que obtiene un porcetnaje de accuracy igual al porcentaje de la clase mayoritaria en el conjunto de datos, que es justo el clasificador que identifica todas las muestras como la clase mayoritaria. si observamos las otras métrcias, este clasificador obtiene de valor cero en esas otras métrcias que se centran en los aciertos y fallos de la clase minoriataria, y por lo tanto podemos afirmar que no esta clasificando correctamente la clase minoritaria. Como nuestro objetivo es encontrar la mejor hipótesis para el problema, un clasificador que identifique todas las muestras como la clase mayoritaria no es un buen resultado y por lo tanto vamos a optar por un clasificador que obtenga mejores resultados en las métricas de Recall, Precision y F1-Score.\n",
        "\n",
        "Teniendo en cuenta las consideraciones anteriores, he considerador el mejor modelo el que se ha generado con los parámetros de tasa de aprendizaje $\\eta = 0.01$, constante de regularización $alpha = 0.001$ y proporción de pesos de clases (penzalización) de ${0: 1, 1: 4}$ (que representa un peso de la clase minoritaria 4 veces mayor que la clase mayoritaria). Este modelo es el segundo modelo con mejor valor en la métrica F1-Score, tiene valores de Precision y Recall bastantes altos en comparación con el resto y mantiene un valor de accuracy de más del 90%, por lo que la diferencia con el mejor no es significativa."
      ],
      "metadata": {
        "id": "HMMifQ8qk2Ej"
      }
    },
    {
      "cell_type": "markdown",
      "source": [
        ">**Ajuste SVM kernel lineal**"
      ],
      "metadata": {
        "id": "oCK5T52WlDL2"
      }
    },
    {
      "cell_type": "markdown",
      "source": [
        "Los hiperparámetros que voy a elegir experimentalmente utilizando la validación cruzada, explicada anteriormente, para el modelo de SVM con kernel lineal son:\n",
        "\n",
        "\n",
        "*   Constante de regularización de tipo L2 (Ridge)\n",
        "*   Pesos de penalización de las clases\n",
        "\n"
      ],
      "metadata": {
        "id": "9h3Rr_rMTRbw"
      }
    },
    {
      "cell_type": "code",
      "source": [
        "\n",
        "\n",
        "# Ignorar el warning ConvergenceWarning para que la salida esté más clara\n",
        "warnings.filterwarnings(\"ignore\", category=ConvergenceWarning)\n",
        "\n",
        "#Inicializar listas para guardar valores para la tabla\n",
        "CTabla = []\n",
        "class_weightTabla = []\n",
        "\n",
        "funcionPerdidaTabla = []\n",
        "accuracyTabla = []\n",
        "recallTabla = []\n",
        "f1Tabla = []\n",
        "precisionTabla = []\n",
        "\n",
        "# métricas para utilizar\n",
        "scoringSVM = {'accuracy': 'accuracy',\n",
        "           'precision': make_scorer(precision_score, zero_division = 0),\n",
        "            # zero_division = 0 sirve para que cuando el calsificador no predice ninguan muestra\n",
        "            # como una de las clases, la métrica sea 0 directamente y eliminar un Warning que indicaba justo eso\n",
        "           'recall': make_scorer(recall_score),\n",
        "           'f1_score': make_scorer(f1_score),\n",
        "           'hinge_loss': make_scorer(hinge_loss, greater_is_better=False),\n",
        "           # Utilizo la función de pérdida hinge_loss, con greater_is_better=False ya que por defecto las métricas\n",
        "           #de scikit-learn están configuradas para mazimizar su valor, y en la función de pérdida se minimiza\n",
        "           }\n",
        "\n",
        "#Ejecutar el algoritmo con valores distintos en sus parámetros\n",
        "CValues = [1, 5, 10]\n",
        "class_weight_values = [{0: 1, 1: 4},{0: 1, 1: 5},{0: 1, 1: 6}]\n",
        "max_iters = 10000\n",
        "\n",
        "\n",
        "for C in CValues:\n",
        "  for class_weight_val in class_weight_values:\n",
        "    # Crear el modelo de SVM con kernel lineal con los parámetros elegidos\n",
        "    SVC_modelo = SVC(\n",
        "        kernel='linear', # Tipo del kernel, utilizamos lineal para que el modelo sea lineal\n",
        "        max_iter = max_iters, #número máximo de iteraciones\n",
        "        random_state=1, # Establecer semilla para los numero aleatorios generados para\n",
        "        C = C, # parametro de reularización\n",
        "        tol = 1e-3, # tolerancia del criterio de parada por defecto\n",
        "        class_weight=class_weight_val # Determina los pesos de las clases\n",
        "        )\n",
        "    # Crear el objeto K-fold con 10 divisiones\n",
        "    kfold = StratifiedKFold(\n",
        "        n_splits=10, # Número de particiones (folds)\n",
        "        random_state=0, # Semilla para los números aleatorios\n",
        "        shuffle=True #Desordenar por clases antes de particionar el conjunto\n",
        "        )\n",
        "    # Realizar validación cruzada y obtener los resultados de varias métricas\n",
        "    results = cross_validate(SVC_modelo, preproc_trainX, trainY, cv=kfold, scoring=scoringSVM)\n",
        "\n",
        "    #guardar datos para la tabla\n",
        "    CTabla.append(C)\n",
        "    class_weightTabla.append(class_weight_val)\n",
        "\n",
        "    accuracyTabla.append(results['test_accuracy'].mean())\n",
        "    precisionTabla.append(results['test_precision'].mean())\n",
        "    recallTabla.append(results['test_recall'].mean())\n",
        "    f1Tabla.append(results['test_f1_score'].mean())\n",
        "    funcionPerdidaTabla.append(-results['test_hinge_loss'].mean())#  Cambiar de signo la funcion de pérdida negativa\n",
        "\n",
        "\n",
        "#Crear DataFrame y mostrarlo\n",
        "tableFrame = pd.DataFrame({'Parámetro de regularización': CTabla,\n",
        "                          'Class weights (penalización de clases)': class_weightTabla,'Error de validación (función de pérdida)':funcionPerdidaTabla,\n",
        "                           'Accuracy':accuracyTabla,'Precision': precisionTabla,'Recall':recallTabla,'F1-Score':f1Tabla})\n",
        "display(tableFrame)"
      ],
      "metadata": {
        "colab": {
          "base_uri": "https://localhost:8080/",
          "height": 331
        },
        "id": "hqf1O2tDmByE",
        "outputId": "4fd92ac6-945c-434b-fc93-ad6bb9edaae0"
      },
      "execution_count": null,
      "outputs": [
        {
          "output_type": "display_data",
          "data": {
            "text/plain": [
              "   Parámetro de regularización Class weights (penalización de clases)  \\\n",
              "0                            1                           {0: 1, 1: 4}   \n",
              "1                            1                           {0: 1, 1: 5}   \n",
              "2                            1                           {0: 1, 1: 6}   \n",
              "3                            5                           {0: 1, 1: 4}   \n",
              "4                            5                           {0: 1, 1: 5}   \n",
              "5                            5                           {0: 1, 1: 6}   \n",
              "6                           10                           {0: 1, 1: 4}   \n",
              "7                           10                           {0: 1, 1: 5}   \n",
              "8                           10                           {0: 1, 1: 6}   \n",
              "\n",
              "   Error de validación (función de pérdida)  Accuracy  Precision    Recall  \\\n",
              "0                                  1.002418  0.937261   0.288333  0.023271   \n",
              "1                                  1.009418  0.930262   0.174524  0.033821   \n",
              "2                                  1.026983  0.912697   0.187420  0.135239   \n",
              "3                                  1.005472  0.934208   0.204365  0.029566   \n",
              "4                                  1.033850  0.905830   0.195746  0.179477   \n",
              "5                                  1.066180  0.873499   0.185600  0.305674   \n",
              "6                                  1.049248  0.890432   0.178606  0.221232   \n",
              "7                                  1.101801  0.837879   0.112013  0.238342   \n",
              "8                                  1.149664  0.790016   0.113292  0.368883   \n",
              "\n",
              "   F1-Score  \n",
              "0  0.042853  \n",
              "1  0.054485  \n",
              "2  0.151212  \n",
              "3  0.051405  \n",
              "4  0.181507  \n",
              "5  0.223883  \n",
              "6  0.192345  \n",
              "7  0.151000  \n",
              "8  0.172880  "
            ],
            "text/html": [
              "\n",
              "  <div id=\"df-6bfb9465-c70a-4f48-8f37-de67a4d4f173\">\n",
              "    <div class=\"colab-df-container\">\n",
              "      <div>\n",
              "<style scoped>\n",
              "    .dataframe tbody tr th:only-of-type {\n",
              "        vertical-align: middle;\n",
              "    }\n",
              "\n",
              "    .dataframe tbody tr th {\n",
              "        vertical-align: top;\n",
              "    }\n",
              "\n",
              "    .dataframe thead th {\n",
              "        text-align: right;\n",
              "    }\n",
              "</style>\n",
              "<table border=\"1\" class=\"dataframe\">\n",
              "  <thead>\n",
              "    <tr style=\"text-align: right;\">\n",
              "      <th></th>\n",
              "      <th>Parámetro de regularización</th>\n",
              "      <th>Class weights (penalización de clases)</th>\n",
              "      <th>Error de validación (función de pérdida)</th>\n",
              "      <th>Accuracy</th>\n",
              "      <th>Precision</th>\n",
              "      <th>Recall</th>\n",
              "      <th>F1-Score</th>\n",
              "    </tr>\n",
              "  </thead>\n",
              "  <tbody>\n",
              "    <tr>\n",
              "      <th>0</th>\n",
              "      <td>1</td>\n",
              "      <td>{0: 1, 1: 4}</td>\n",
              "      <td>1.002418</td>\n",
              "      <td>0.937261</td>\n",
              "      <td>0.288333</td>\n",
              "      <td>0.023271</td>\n",
              "      <td>0.042853</td>\n",
              "    </tr>\n",
              "    <tr>\n",
              "      <th>1</th>\n",
              "      <td>1</td>\n",
              "      <td>{0: 1, 1: 5}</td>\n",
              "      <td>1.009418</td>\n",
              "      <td>0.930262</td>\n",
              "      <td>0.174524</td>\n",
              "      <td>0.033821</td>\n",
              "      <td>0.054485</td>\n",
              "    </tr>\n",
              "    <tr>\n",
              "      <th>2</th>\n",
              "      <td>1</td>\n",
              "      <td>{0: 1, 1: 6}</td>\n",
              "      <td>1.026983</td>\n",
              "      <td>0.912697</td>\n",
              "      <td>0.187420</td>\n",
              "      <td>0.135239</td>\n",
              "      <td>0.151212</td>\n",
              "    </tr>\n",
              "    <tr>\n",
              "      <th>3</th>\n",
              "      <td>5</td>\n",
              "      <td>{0: 1, 1: 4}</td>\n",
              "      <td>1.005472</td>\n",
              "      <td>0.934208</td>\n",
              "      <td>0.204365</td>\n",
              "      <td>0.029566</td>\n",
              "      <td>0.051405</td>\n",
              "    </tr>\n",
              "    <tr>\n",
              "      <th>4</th>\n",
              "      <td>5</td>\n",
              "      <td>{0: 1, 1: 5}</td>\n",
              "      <td>1.033850</td>\n",
              "      <td>0.905830</td>\n",
              "      <td>0.195746</td>\n",
              "      <td>0.179477</td>\n",
              "      <td>0.181507</td>\n",
              "    </tr>\n",
              "    <tr>\n",
              "      <th>5</th>\n",
              "      <td>5</td>\n",
              "      <td>{0: 1, 1: 6}</td>\n",
              "      <td>1.066180</td>\n",
              "      <td>0.873499</td>\n",
              "      <td>0.185600</td>\n",
              "      <td>0.305674</td>\n",
              "      <td>0.223883</td>\n",
              "    </tr>\n",
              "    <tr>\n",
              "      <th>6</th>\n",
              "      <td>10</td>\n",
              "      <td>{0: 1, 1: 4}</td>\n",
              "      <td>1.049248</td>\n",
              "      <td>0.890432</td>\n",
              "      <td>0.178606</td>\n",
              "      <td>0.221232</td>\n",
              "      <td>0.192345</td>\n",
              "    </tr>\n",
              "    <tr>\n",
              "      <th>7</th>\n",
              "      <td>10</td>\n",
              "      <td>{0: 1, 1: 5}</td>\n",
              "      <td>1.101801</td>\n",
              "      <td>0.837879</td>\n",
              "      <td>0.112013</td>\n",
              "      <td>0.238342</td>\n",
              "      <td>0.151000</td>\n",
              "    </tr>\n",
              "    <tr>\n",
              "      <th>8</th>\n",
              "      <td>10</td>\n",
              "      <td>{0: 1, 1: 6}</td>\n",
              "      <td>1.149664</td>\n",
              "      <td>0.790016</td>\n",
              "      <td>0.113292</td>\n",
              "      <td>0.368883</td>\n",
              "      <td>0.172880</td>\n",
              "    </tr>\n",
              "  </tbody>\n",
              "</table>\n",
              "</div>\n",
              "      <button class=\"colab-df-convert\" onclick=\"convertToInteractive('df-6bfb9465-c70a-4f48-8f37-de67a4d4f173')\"\n",
              "              title=\"Convert this dataframe to an interactive table.\"\n",
              "              style=\"display:none;\">\n",
              "        \n",
              "  <svg xmlns=\"http://www.w3.org/2000/svg\" height=\"24px\"viewBox=\"0 0 24 24\"\n",
              "       width=\"24px\">\n",
              "    <path d=\"M0 0h24v24H0V0z\" fill=\"none\"/>\n",
              "    <path d=\"M18.56 5.44l.94 2.06.94-2.06 2.06-.94-2.06-.94-.94-2.06-.94 2.06-2.06.94zm-11 1L8.5 8.5l.94-2.06 2.06-.94-2.06-.94L8.5 2.5l-.94 2.06-2.06.94zm10 10l.94 2.06.94-2.06 2.06-.94-2.06-.94-.94-2.06-.94 2.06-2.06.94z\"/><path d=\"M17.41 7.96l-1.37-1.37c-.4-.4-.92-.59-1.43-.59-.52 0-1.04.2-1.43.59L10.3 9.45l-7.72 7.72c-.78.78-.78 2.05 0 2.83L4 21.41c.39.39.9.59 1.41.59.51 0 1.02-.2 1.41-.59l7.78-7.78 2.81-2.81c.8-.78.8-2.07 0-2.86zM5.41 20L4 18.59l7.72-7.72 1.47 1.35L5.41 20z\"/>\n",
              "  </svg>\n",
              "      </button>\n",
              "      \n",
              "  <style>\n",
              "    .colab-df-container {\n",
              "      display:flex;\n",
              "      flex-wrap:wrap;\n",
              "      gap: 12px;\n",
              "    }\n",
              "\n",
              "    .colab-df-convert {\n",
              "      background-color: #E8F0FE;\n",
              "      border: none;\n",
              "      border-radius: 50%;\n",
              "      cursor: pointer;\n",
              "      display: none;\n",
              "      fill: #1967D2;\n",
              "      height: 32px;\n",
              "      padding: 0 0 0 0;\n",
              "      width: 32px;\n",
              "    }\n",
              "\n",
              "    .colab-df-convert:hover {\n",
              "      background-color: #E2EBFA;\n",
              "      box-shadow: 0px 1px 2px rgba(60, 64, 67, 0.3), 0px 1px 3px 1px rgba(60, 64, 67, 0.15);\n",
              "      fill: #174EA6;\n",
              "    }\n",
              "\n",
              "    [theme=dark] .colab-df-convert {\n",
              "      background-color: #3B4455;\n",
              "      fill: #D2E3FC;\n",
              "    }\n",
              "\n",
              "    [theme=dark] .colab-df-convert:hover {\n",
              "      background-color: #434B5C;\n",
              "      box-shadow: 0px 1px 3px 1px rgba(0, 0, 0, 0.15);\n",
              "      filter: drop-shadow(0px 1px 2px rgba(0, 0, 0, 0.3));\n",
              "      fill: #FFFFFF;\n",
              "    }\n",
              "  </style>\n",
              "\n",
              "      <script>\n",
              "        const buttonEl =\n",
              "          document.querySelector('#df-6bfb9465-c70a-4f48-8f37-de67a4d4f173 button.colab-df-convert');\n",
              "        buttonEl.style.display =\n",
              "          google.colab.kernel.accessAllowed ? 'block' : 'none';\n",
              "\n",
              "        async function convertToInteractive(key) {\n",
              "          const element = document.querySelector('#df-6bfb9465-c70a-4f48-8f37-de67a4d4f173');\n",
              "          const dataTable =\n",
              "            await google.colab.kernel.invokeFunction('convertToInteractive',\n",
              "                                                     [key], {});\n",
              "          if (!dataTable) return;\n",
              "\n",
              "          const docLinkHtml = 'Like what you see? Visit the ' +\n",
              "            '<a target=\"_blank\" href=https://colab.research.google.com/notebooks/data_table.ipynb>data table notebook</a>'\n",
              "            + ' to learn more about interactive tables.';\n",
              "          element.innerHTML = '';\n",
              "          dataTable['output_type'] = 'display_data';\n",
              "          await google.colab.output.renderOutput(dataTable, element);\n",
              "          const docLink = document.createElement('div');\n",
              "          docLink.innerHTML = docLinkHtml;\n",
              "          element.appendChild(docLink);\n",
              "        }\n",
              "      </script>\n",
              "    </div>\n",
              "  </div>\n",
              "  "
            ]
          },
          "metadata": {}
        }
      ]
    },
    {
      "cell_type": "markdown",
      "source": [
        "Para elgir los hiperparámtros con este nuevo modelo hay que seguir las mismas consideraciones que se han explicado con el modelo de Regresión Logística. Por lo tanto, siguiendo el mismo método, he considerado como mejor modelo el que se implementa con la constante de regularización $C= 1$ y la proporción de pesos ${0: 1, 1: 6}$. Este modelo es el tercer modelo con mejor valor en la métrica F1-Score, y por lo tanto tiene valores altos de Precision y Recall comparado con el resto y de entre los tres modelos con mejor F1-Score es el modelo con mayor Accuracy y función de pérdida."
      ],
      "metadata": {
        "id": "tuXL_7nmwAJf"
      }
    },
    {
      "cell_type": "markdown",
      "source": [
        "Ahora vamos a comparar ambos modelos con los hiperparámetros elegidos y para ello vamos a utilizar a parte de las métricas calculadas la matriz de confusión entrenando con todo el conjunto de entrenamiento:"
      ],
      "metadata": {
        "id": "2KRdicoQys1Y"
      }
    },
    {
      "cell_type": "code",
      "source": [
        "\n",
        "tipoRegul = 'l2'\n",
        "lr =0.01\n",
        "alpha = 0.001\n",
        "class_weight_val = {0: 1, 1: 4}\n",
        "\n",
        "\n",
        "# Crear el modelo de Regresión Logística SGD con los parámetros elegidos\n",
        "RL_SGD_modelo = SGDClassifier(\n",
        "  loss = 'log_loss', # Determinar lunción de pérdida asociada al modelo de regresión logística (log_loss)\n",
        "  max_iter = max_iters, #número máximo de iteraciones\n",
        "  random_state=1, # Establecer semilla para los numero aleatorios generados para desordenar los datos\n",
        "  shuffle = True, # Desordenar muestras después de cada época,\n",
        "  learning_rate = 'constant', # Determinar que el learning rate sea constante, elegido por parámetro eta0\n",
        "  eta0 = lr, # Elegir tasa de aprendizaje constante que utilizará SGD\n",
        "  penalty = tipoRegul, # Elegir tipo de regularización\n",
        "  alpha = alpha, # parametro de reularización\n",
        "  tol = 1e-3, # tolerancia del criterio de parada\n",
        "  class_weight=class_weight_val #ajusta automáticamente los pesos de las clases en función de su frecuencia en los datos de entrenamiento\n",
        "  )\n",
        "\n",
        "# Crear el objeto K-fold con 10 divisiones\n",
        "kfold = StratifiedKFold(\n",
        "  n_splits=10, # Número de particiones (folds)\n",
        "  random_state=0, # Semilla para los números aleatorios\n",
        "  shuffle=True #Desordenar por clases antes de particionar el conjunto\n",
        "  )\n",
        "# Realizar validación cruzada y obtener los resultados de varias métricas\n",
        "results = cross_validate(RL_SGD_modelo, preproc_trainX, trainY, cv=kfold, scoring=scoringRL)\n",
        "\n",
        "print('Modelo de Regresión Lineal SGD:')\n",
        "print('Tasa de aprendizaje',lr)\n",
        "print('Class weights (penalización de clases)',class_weight_val)\n",
        "print('Parámetro de regularización (alpha)',alpha)\n",
        "print('Exactitud promedio:', results['test_accuracy'].mean())\n",
        "print('Precisión promedio:', results['test_precision'].mean())\n",
        "print('Recall promedio:', results['test_recall'].mean())\n",
        "print('F1-Score promedio:', results['test_f1_score'].mean())\n",
        "print('Error de validación (Función de Pérdida Log_loss):', -results['test_neg_log_loss'].mean()) #  Cambiar de signo la funcion de pérdida negativa\n",
        "\n",
        "# Entrenar el modelo con los datos de entrenamiento\n",
        "RL_SGD_modelo.fit(preproc_trainX, trainY)\n",
        "\n",
        "# Obtener las predicciones del modelo\n",
        "y_pred = RL_SGD_modelo.predict(preproc_trainX)\n",
        "\n",
        "# Crear la matriz de confusión\n",
        "cm = confusion_matrix(trainY, y_pred)\n",
        "\n",
        "# Crear un DataFrame de pandas con la matriz de confusión\n",
        "df_cm = pd.DataFrame(cm, index=['Clase real 0', 'Clase real 1'], columns=['Predicción Clase 0', 'Predicción Clase 1'])\n",
        "\n",
        "print('Matriz de Confusión:')\n",
        "\n",
        "# Mostrar la tabla\n",
        "display(df_cm)\n"
      ],
      "metadata": {
        "colab": {
          "base_uri": "https://localhost:8080/",
          "height": 285
        },
        "id": "y5OzJ_eBQyEN",
        "outputId": "d05b4a28-5625-46d8-d4e6-bbf778e6117a"
      },
      "execution_count": null,
      "outputs": [
        {
          "output_type": "stream",
          "name": "stdout",
          "text": [
            "Modelo de Regresión Lineal SGD:\n",
            "Tasa de aprendizaje 0.01\n",
            "Class weights (penalización de clases) {0: 1, 1: 4}\n",
            "Parámetro de regularización (alpha) 0.001\n",
            "Exactitud promedio: 0.9166392765109157\n",
            "Precisión promedio: 0.26918349068915726\n",
            "Recall promedio: 0.17340425531914894\n",
            "F1-Score promedio: 0.1878475526022446\n",
            "Error de validación (Función de Pérdida Log_loss): 0.2849347391068845\n",
            "Matriz de Confusión:\n"
          ]
        },
        {
          "output_type": "display_data",
          "data": {
            "text/plain": [
              "              Predicción Clase 0  Predicción Clase 1\n",
              "Clase real 0                7274                 110\n",
              "Clase real 1                 427                  47"
            ],
            "text/html": [
              "\n",
              "  <div id=\"df-d58ea22d-c1ac-4815-b7bd-5886cd601864\">\n",
              "    <div class=\"colab-df-container\">\n",
              "      <div>\n",
              "<style scoped>\n",
              "    .dataframe tbody tr th:only-of-type {\n",
              "        vertical-align: middle;\n",
              "    }\n",
              "\n",
              "    .dataframe tbody tr th {\n",
              "        vertical-align: top;\n",
              "    }\n",
              "\n",
              "    .dataframe thead th {\n",
              "        text-align: right;\n",
              "    }\n",
              "</style>\n",
              "<table border=\"1\" class=\"dataframe\">\n",
              "  <thead>\n",
              "    <tr style=\"text-align: right;\">\n",
              "      <th></th>\n",
              "      <th>Predicción Clase 0</th>\n",
              "      <th>Predicción Clase 1</th>\n",
              "    </tr>\n",
              "  </thead>\n",
              "  <tbody>\n",
              "    <tr>\n",
              "      <th>Clase real 0</th>\n",
              "      <td>7274</td>\n",
              "      <td>110</td>\n",
              "    </tr>\n",
              "    <tr>\n",
              "      <th>Clase real 1</th>\n",
              "      <td>427</td>\n",
              "      <td>47</td>\n",
              "    </tr>\n",
              "  </tbody>\n",
              "</table>\n",
              "</div>\n",
              "      <button class=\"colab-df-convert\" onclick=\"convertToInteractive('df-d58ea22d-c1ac-4815-b7bd-5886cd601864')\"\n",
              "              title=\"Convert this dataframe to an interactive table.\"\n",
              "              style=\"display:none;\">\n",
              "        \n",
              "  <svg xmlns=\"http://www.w3.org/2000/svg\" height=\"24px\"viewBox=\"0 0 24 24\"\n",
              "       width=\"24px\">\n",
              "    <path d=\"M0 0h24v24H0V0z\" fill=\"none\"/>\n",
              "    <path d=\"M18.56 5.44l.94 2.06.94-2.06 2.06-.94-2.06-.94-.94-2.06-.94 2.06-2.06.94zm-11 1L8.5 8.5l.94-2.06 2.06-.94-2.06-.94L8.5 2.5l-.94 2.06-2.06.94zm10 10l.94 2.06.94-2.06 2.06-.94-2.06-.94-.94-2.06-.94 2.06-2.06.94z\"/><path d=\"M17.41 7.96l-1.37-1.37c-.4-.4-.92-.59-1.43-.59-.52 0-1.04.2-1.43.59L10.3 9.45l-7.72 7.72c-.78.78-.78 2.05 0 2.83L4 21.41c.39.39.9.59 1.41.59.51 0 1.02-.2 1.41-.59l7.78-7.78 2.81-2.81c.8-.78.8-2.07 0-2.86zM5.41 20L4 18.59l7.72-7.72 1.47 1.35L5.41 20z\"/>\n",
              "  </svg>\n",
              "      </button>\n",
              "      \n",
              "  <style>\n",
              "    .colab-df-container {\n",
              "      display:flex;\n",
              "      flex-wrap:wrap;\n",
              "      gap: 12px;\n",
              "    }\n",
              "\n",
              "    .colab-df-convert {\n",
              "      background-color: #E8F0FE;\n",
              "      border: none;\n",
              "      border-radius: 50%;\n",
              "      cursor: pointer;\n",
              "      display: none;\n",
              "      fill: #1967D2;\n",
              "      height: 32px;\n",
              "      padding: 0 0 0 0;\n",
              "      width: 32px;\n",
              "    }\n",
              "\n",
              "    .colab-df-convert:hover {\n",
              "      background-color: #E2EBFA;\n",
              "      box-shadow: 0px 1px 2px rgba(60, 64, 67, 0.3), 0px 1px 3px 1px rgba(60, 64, 67, 0.15);\n",
              "      fill: #174EA6;\n",
              "    }\n",
              "\n",
              "    [theme=dark] .colab-df-convert {\n",
              "      background-color: #3B4455;\n",
              "      fill: #D2E3FC;\n",
              "    }\n",
              "\n",
              "    [theme=dark] .colab-df-convert:hover {\n",
              "      background-color: #434B5C;\n",
              "      box-shadow: 0px 1px 3px 1px rgba(0, 0, 0, 0.15);\n",
              "      filter: drop-shadow(0px 1px 2px rgba(0, 0, 0, 0.3));\n",
              "      fill: #FFFFFF;\n",
              "    }\n",
              "  </style>\n",
              "\n",
              "      <script>\n",
              "        const buttonEl =\n",
              "          document.querySelector('#df-d58ea22d-c1ac-4815-b7bd-5886cd601864 button.colab-df-convert');\n",
              "        buttonEl.style.display =\n",
              "          google.colab.kernel.accessAllowed ? 'block' : 'none';\n",
              "\n",
              "        async function convertToInteractive(key) {\n",
              "          const element = document.querySelector('#df-d58ea22d-c1ac-4815-b7bd-5886cd601864');\n",
              "          const dataTable =\n",
              "            await google.colab.kernel.invokeFunction('convertToInteractive',\n",
              "                                                     [key], {});\n",
              "          if (!dataTable) return;\n",
              "\n",
              "          const docLinkHtml = 'Like what you see? Visit the ' +\n",
              "            '<a target=\"_blank\" href=https://colab.research.google.com/notebooks/data_table.ipynb>data table notebook</a>'\n",
              "            + ' to learn more about interactive tables.';\n",
              "          element.innerHTML = '';\n",
              "          dataTable['output_type'] = 'display_data';\n",
              "          await google.colab.output.renderOutput(dataTable, element);\n",
              "          const docLink = document.createElement('div');\n",
              "          docLink.innerHTML = docLinkHtml;\n",
              "          element.appendChild(docLink);\n",
              "        }\n",
              "      </script>\n",
              "    </div>\n",
              "  </div>\n",
              "  "
            ]
          },
          "metadata": {}
        }
      ]
    },
    {
      "cell_type": "code",
      "source": [
        "# Ignorar el warning ConvergenceWarning para que la salida esté más clara\n",
        "warnings.filterwarnings(\"ignore\", category=ConvergenceWarning)\n",
        "\n",
        "max_iters = 10000\n",
        "C=1\n",
        "class_weight_val ={0: 1, 1: 6}\n",
        "\n",
        "# Crear el modelo de SVM con kernel Lineal con los parámetros elegidos\n",
        "SVC_modelo = SVC(\n",
        "  kernel='linear', # Tipo del kernel, utilizamos lineal para que el modelo sea lineal\n",
        "  max_iter = max_iters, #número máximo de iteraciones\n",
        "  random_state=1, # Establecer semilla para los numero aleatorios generados para\n",
        "  C = C, # parametro de reularización\n",
        "  tol = 1e-3, # tolerancia del criterio de parada por defecto\n",
        "  class_weight=class_weight_val # Determina los pesos de las clases\n",
        "  )\n",
        "\n",
        "# Crear el objeto K-fold con 10 divisiones\n",
        "kfold = StratifiedKFold(\n",
        "  n_splits=10, # Número de particiones (folds)\n",
        "  random_state=0, # Semilla para los números aleatorios\n",
        "  shuffle=True #Desordenar por clases antes de particionar el conjunto\n",
        "  )\n",
        "# Realizar validación cruzada y obtener los resultados de varias métricas\n",
        "results = cross_validate(SVC_modelo, preproc_trainX, trainY, cv=kfold, scoring=scoringSVM)\n",
        "print('Modelo SVM con Kernel Lineal:')\n",
        "print('C',C)\n",
        "print('class_weight_val',class_weight_val)\n",
        "print('Exactitud promedio:', results['test_accuracy'].mean())\n",
        "print('Precisión promedio:', results['test_precision'].mean())\n",
        "print('Recall promedio:', results['test_recall'].mean())\n",
        "print('F1-Score promedio:', results['test_f1_score'].mean())\n",
        "print('Error de validación (Función de Pérdida hinge_loss):', -results['test_hinge_loss'].mean()) #  Cambiar de signo la funcion de pérdida negativa\n",
        "\n",
        "# Entrenar el modelo con los datos de entrenamiento\n",
        "SVC_modelo.fit(preproc_trainX, trainY)\n",
        "\n",
        "# Obtener las predicciones del modelo\n",
        "y_pred = SVC_modelo.predict(preproc_trainX)\n",
        "\n",
        "# Crear la matriz de confusión\n",
        "cm = confusion_matrix(trainY, y_pred)\n",
        "\n",
        "# Crear un DataFrame de pandas con la matriz de confusión\n",
        "df_cm = pd.DataFrame(cm, index=['Clase real 0', 'Clase real 1'], columns=['Predicción Clase 0', 'Predicción Clase 1'])\n",
        "\n",
        "print('Matriz de Confusión:')\n",
        "# Mostrar la tabla\n",
        "display(df_cm)\n"
      ],
      "metadata": {
        "colab": {
          "base_uri": "https://localhost:8080/",
          "height": 268
        },
        "outputId": "344f1d32-8357-4bb1-df27-bc47b2d1a1eb",
        "id": "wuj0THcNFUpy"
      },
      "execution_count": null,
      "outputs": [
        {
          "output_type": "stream",
          "name": "stdout",
          "text": [
            "Modelo SVM con Kernel Lineal:\n",
            "C 1\n",
            "class_weight_val {0: 1, 1: 6}\n",
            "Exactitud promedio: 0.9126967148020292\n",
            "Precisión promedio: 0.18741978638837722\n",
            "Recall promedio: 0.13523936170212764\n",
            "F1-Score promedio: 0.15121194092992304\n",
            "Error de validación (Función de Pérdida hinge_loss): 1.0269827069253334\n",
            "Matriz de Confusión:\n"
          ]
        },
        {
          "output_type": "display_data",
          "data": {
            "text/plain": [
              "              Predicción Clase 0  Predicción Clase 1\n",
              "Clase real 0                7209                 175\n",
              "Clase real 1                 401                  73"
            ],
            "text/html": [
              "\n",
              "  <div id=\"df-b9f1e8a0-cdee-4eec-aa14-e7a4fed9706f\">\n",
              "    <div class=\"colab-df-container\">\n",
              "      <div>\n",
              "<style scoped>\n",
              "    .dataframe tbody tr th:only-of-type {\n",
              "        vertical-align: middle;\n",
              "    }\n",
              "\n",
              "    .dataframe tbody tr th {\n",
              "        vertical-align: top;\n",
              "    }\n",
              "\n",
              "    .dataframe thead th {\n",
              "        text-align: right;\n",
              "    }\n",
              "</style>\n",
              "<table border=\"1\" class=\"dataframe\">\n",
              "  <thead>\n",
              "    <tr style=\"text-align: right;\">\n",
              "      <th></th>\n",
              "      <th>Predicción Clase 0</th>\n",
              "      <th>Predicción Clase 1</th>\n",
              "    </tr>\n",
              "  </thead>\n",
              "  <tbody>\n",
              "    <tr>\n",
              "      <th>Clase real 0</th>\n",
              "      <td>7209</td>\n",
              "      <td>175</td>\n",
              "    </tr>\n",
              "    <tr>\n",
              "      <th>Clase real 1</th>\n",
              "      <td>401</td>\n",
              "      <td>73</td>\n",
              "    </tr>\n",
              "  </tbody>\n",
              "</table>\n",
              "</div>\n",
              "      <button class=\"colab-df-convert\" onclick=\"convertToInteractive('df-b9f1e8a0-cdee-4eec-aa14-e7a4fed9706f')\"\n",
              "              title=\"Convert this dataframe to an interactive table.\"\n",
              "              style=\"display:none;\">\n",
              "        \n",
              "  <svg xmlns=\"http://www.w3.org/2000/svg\" height=\"24px\"viewBox=\"0 0 24 24\"\n",
              "       width=\"24px\">\n",
              "    <path d=\"M0 0h24v24H0V0z\" fill=\"none\"/>\n",
              "    <path d=\"M18.56 5.44l.94 2.06.94-2.06 2.06-.94-2.06-.94-.94-2.06-.94 2.06-2.06.94zm-11 1L8.5 8.5l.94-2.06 2.06-.94-2.06-.94L8.5 2.5l-.94 2.06-2.06.94zm10 10l.94 2.06.94-2.06 2.06-.94-2.06-.94-.94-2.06-.94 2.06-2.06.94z\"/><path d=\"M17.41 7.96l-1.37-1.37c-.4-.4-.92-.59-1.43-.59-.52 0-1.04.2-1.43.59L10.3 9.45l-7.72 7.72c-.78.78-.78 2.05 0 2.83L4 21.41c.39.39.9.59 1.41.59.51 0 1.02-.2 1.41-.59l7.78-7.78 2.81-2.81c.8-.78.8-2.07 0-2.86zM5.41 20L4 18.59l7.72-7.72 1.47 1.35L5.41 20z\"/>\n",
              "  </svg>\n",
              "      </button>\n",
              "      \n",
              "  <style>\n",
              "    .colab-df-container {\n",
              "      display:flex;\n",
              "      flex-wrap:wrap;\n",
              "      gap: 12px;\n",
              "    }\n",
              "\n",
              "    .colab-df-convert {\n",
              "      background-color: #E8F0FE;\n",
              "      border: none;\n",
              "      border-radius: 50%;\n",
              "      cursor: pointer;\n",
              "      display: none;\n",
              "      fill: #1967D2;\n",
              "      height: 32px;\n",
              "      padding: 0 0 0 0;\n",
              "      width: 32px;\n",
              "    }\n",
              "\n",
              "    .colab-df-convert:hover {\n",
              "      background-color: #E2EBFA;\n",
              "      box-shadow: 0px 1px 2px rgba(60, 64, 67, 0.3), 0px 1px 3px 1px rgba(60, 64, 67, 0.15);\n",
              "      fill: #174EA6;\n",
              "    }\n",
              "\n",
              "    [theme=dark] .colab-df-convert {\n",
              "      background-color: #3B4455;\n",
              "      fill: #D2E3FC;\n",
              "    }\n",
              "\n",
              "    [theme=dark] .colab-df-convert:hover {\n",
              "      background-color: #434B5C;\n",
              "      box-shadow: 0px 1px 3px 1px rgba(0, 0, 0, 0.15);\n",
              "      filter: drop-shadow(0px 1px 2px rgba(0, 0, 0, 0.3));\n",
              "      fill: #FFFFFF;\n",
              "    }\n",
              "  </style>\n",
              "\n",
              "      <script>\n",
              "        const buttonEl =\n",
              "          document.querySelector('#df-b9f1e8a0-cdee-4eec-aa14-e7a4fed9706f button.colab-df-convert');\n",
              "        buttonEl.style.display =\n",
              "          google.colab.kernel.accessAllowed ? 'block' : 'none';\n",
              "\n",
              "        async function convertToInteractive(key) {\n",
              "          const element = document.querySelector('#df-b9f1e8a0-cdee-4eec-aa14-e7a4fed9706f');\n",
              "          const dataTable =\n",
              "            await google.colab.kernel.invokeFunction('convertToInteractive',\n",
              "                                                     [key], {});\n",
              "          if (!dataTable) return;\n",
              "\n",
              "          const docLinkHtml = 'Like what you see? Visit the ' +\n",
              "            '<a target=\"_blank\" href=https://colab.research.google.com/notebooks/data_table.ipynb>data table notebook</a>'\n",
              "            + ' to learn more about interactive tables.';\n",
              "          element.innerHTML = '';\n",
              "          dataTable['output_type'] = 'display_data';\n",
              "          await google.colab.output.renderOutput(dataTable, element);\n",
              "          const docLink = document.createElement('div');\n",
              "          docLink.innerHTML = docLinkHtml;\n",
              "          element.appendChild(docLink);\n",
              "        }\n",
              "      </script>\n",
              "    </div>\n",
              "  </div>\n",
              "  "
            ]
          },
          "metadata": {}
        }
      ]
    },
    {
      "cell_type": "markdown",
      "source": [
        "Observando Ambos modelos, podemos ver que el modelo de Regresión Logística ha obtenido unas evaluaciones ligeramente mejores durante la validación, en términos de las métrcias ya que al utilizar funciones de pérdidad distintas no se pueden comapra en ese aspecto. Aun así, como la diferencia de las valoraciones es mínima, los dos modelos han obtenido prácticamente los mismos resultados, y por tanto se podría elegir el modelo que se quisiera. Sin embargo, observando las matrices de confusión de cada modelo en el conjunto de entrenamiento, se puede ver que el modelo SVM ha clasificado correctamente más muestras de la clase minoritaria que el modelo de Regresión Logística, y al haber tanto desequilibrio entre ambas clases voy a elegir el modelo SVM como modelo final y mejor hipótesis para el problema."
      ],
      "metadata": {
        "id": "miZAEO2uB0zt"
      }
    },
    {
      "cell_type": "markdown",
      "source": [
        "Por lo tanto ahora vamos a utilizar el conjunto de datos de test para evaluar el modelo elegido y estimar el error $E_{out}$ final del modelo:"
      ],
      "metadata": {
        "id": "U5yIE3xAFL9g"
      }
    },
    {
      "cell_type": "code",
      "source": [
        "\n",
        "# Obtener las predicciones del modelo utilizando los datos de test\n",
        "y_pred = SVC_modelo.predict(preproc_testX)\n",
        "\n",
        "# Calcular la precisión utilizando los datos de test\n",
        "precision = precision_score(testY, y_pred)\n",
        "\n",
        "# Calcular la exactitud (accuracy)  utilizando los datos de test\n",
        "accuracy = accuracy_score(testY, y_pred)\n",
        "\n",
        "# Calcular recall    utilizando los datos de test\n",
        "recall = recall_score(testY, y_pred)\n",
        "\n",
        "# Calcular el F1-Score  utilizando los datos de test\n",
        "f1 = f1_score(testY, y_pred)\n",
        "\n",
        "# Calcular el F1-Score utilizando los datos de test\n",
        "hinge_loss_value = hinge_loss(testY, y_pred)\n",
        "\n",
        "\n",
        "# Imprimir los resultados\n",
        "print(\"Accuracy en test:\", accuracy)\n",
        "print(\"Recall en test:\", recall)\n",
        "print(\"Precisión en test:\", precision)\n",
        "print(\"F1-Score en test:\", f1)\n",
        "print(\"Error de test (Función de Pérdida hinge_loss):\", hinge_loss_value)\n",
        "\n",
        "# Crear la matriz de confusión\n",
        "cm = confusion_matrix(testY, y_pred)\n",
        "\n",
        "# Crear un DataFrame de pandas con la matriz de confusión\n",
        "df_cm = pd.DataFrame(cm, index=['Clase real 0', 'Clase real 1'], columns=['Predicción Clase 0', 'Predicción Clase 1'])\n",
        "\n",
        "print('Matriz de Confusión:')\n",
        "# Mostrar la tabla\n",
        "display(df_cm)"
      ],
      "metadata": {
        "colab": {
          "base_uri": "https://localhost:8080/",
          "height": 216
        },
        "id": "s2pKCaboCLEH",
        "outputId": "a3854d42-a0f2-4269-e052-187ea0ce7c7b"
      },
      "execution_count": null,
      "outputs": [
        {
          "output_type": "stream",
          "name": "stdout",
          "text": [
            "Accuracy en test: 0.9215885947046843\n",
            "Recall en test: 0.16071428571428573\n",
            "Precisión en test: 0.23076923076923078\n",
            "F1-Score en test: 0.18947368421052632\n",
            "Error de test (Función de Pérdida hinge_loss): 1.0213849287169043\n",
            "Matriz de Confusión:\n"
          ]
        },
        {
          "output_type": "display_data",
          "data": {
            "text/plain": [
              "              Predicción Clase 0  Predicción Clase 1\n",
              "Clase real 0                1792                  60\n",
              "Clase real 1                  94                  18"
            ],
            "text/html": [
              "\n",
              "  <div id=\"df-ef58267d-5188-4b8d-92c2-00b11668c98b\">\n",
              "    <div class=\"colab-df-container\">\n",
              "      <div>\n",
              "<style scoped>\n",
              "    .dataframe tbody tr th:only-of-type {\n",
              "        vertical-align: middle;\n",
              "    }\n",
              "\n",
              "    .dataframe tbody tr th {\n",
              "        vertical-align: top;\n",
              "    }\n",
              "\n",
              "    .dataframe thead th {\n",
              "        text-align: right;\n",
              "    }\n",
              "</style>\n",
              "<table border=\"1\" class=\"dataframe\">\n",
              "  <thead>\n",
              "    <tr style=\"text-align: right;\">\n",
              "      <th></th>\n",
              "      <th>Predicción Clase 0</th>\n",
              "      <th>Predicción Clase 1</th>\n",
              "    </tr>\n",
              "  </thead>\n",
              "  <tbody>\n",
              "    <tr>\n",
              "      <th>Clase real 0</th>\n",
              "      <td>1792</td>\n",
              "      <td>60</td>\n",
              "    </tr>\n",
              "    <tr>\n",
              "      <th>Clase real 1</th>\n",
              "      <td>94</td>\n",
              "      <td>18</td>\n",
              "    </tr>\n",
              "  </tbody>\n",
              "</table>\n",
              "</div>\n",
              "      <button class=\"colab-df-convert\" onclick=\"convertToInteractive('df-ef58267d-5188-4b8d-92c2-00b11668c98b')\"\n",
              "              title=\"Convert this dataframe to an interactive table.\"\n",
              "              style=\"display:none;\">\n",
              "        \n",
              "  <svg xmlns=\"http://www.w3.org/2000/svg\" height=\"24px\"viewBox=\"0 0 24 24\"\n",
              "       width=\"24px\">\n",
              "    <path d=\"M0 0h24v24H0V0z\" fill=\"none\"/>\n",
              "    <path d=\"M18.56 5.44l.94 2.06.94-2.06 2.06-.94-2.06-.94-.94-2.06-.94 2.06-2.06.94zm-11 1L8.5 8.5l.94-2.06 2.06-.94-2.06-.94L8.5 2.5l-.94 2.06-2.06.94zm10 10l.94 2.06.94-2.06 2.06-.94-2.06-.94-.94-2.06-.94 2.06-2.06.94z\"/><path d=\"M17.41 7.96l-1.37-1.37c-.4-.4-.92-.59-1.43-.59-.52 0-1.04.2-1.43.59L10.3 9.45l-7.72 7.72c-.78.78-.78 2.05 0 2.83L4 21.41c.39.39.9.59 1.41.59.51 0 1.02-.2 1.41-.59l7.78-7.78 2.81-2.81c.8-.78.8-2.07 0-2.86zM5.41 20L4 18.59l7.72-7.72 1.47 1.35L5.41 20z\"/>\n",
              "  </svg>\n",
              "      </button>\n",
              "      \n",
              "  <style>\n",
              "    .colab-df-container {\n",
              "      display:flex;\n",
              "      flex-wrap:wrap;\n",
              "      gap: 12px;\n",
              "    }\n",
              "\n",
              "    .colab-df-convert {\n",
              "      background-color: #E8F0FE;\n",
              "      border: none;\n",
              "      border-radius: 50%;\n",
              "      cursor: pointer;\n",
              "      display: none;\n",
              "      fill: #1967D2;\n",
              "      height: 32px;\n",
              "      padding: 0 0 0 0;\n",
              "      width: 32px;\n",
              "    }\n",
              "\n",
              "    .colab-df-convert:hover {\n",
              "      background-color: #E2EBFA;\n",
              "      box-shadow: 0px 1px 2px rgba(60, 64, 67, 0.3), 0px 1px 3px 1px rgba(60, 64, 67, 0.15);\n",
              "      fill: #174EA6;\n",
              "    }\n",
              "\n",
              "    [theme=dark] .colab-df-convert {\n",
              "      background-color: #3B4455;\n",
              "      fill: #D2E3FC;\n",
              "    }\n",
              "\n",
              "    [theme=dark] .colab-df-convert:hover {\n",
              "      background-color: #434B5C;\n",
              "      box-shadow: 0px 1px 3px 1px rgba(0, 0, 0, 0.15);\n",
              "      filter: drop-shadow(0px 1px 2px rgba(0, 0, 0, 0.3));\n",
              "      fill: #FFFFFF;\n",
              "    }\n",
              "  </style>\n",
              "\n",
              "      <script>\n",
              "        const buttonEl =\n",
              "          document.querySelector('#df-ef58267d-5188-4b8d-92c2-00b11668c98b button.colab-df-convert');\n",
              "        buttonEl.style.display =\n",
              "          google.colab.kernel.accessAllowed ? 'block' : 'none';\n",
              "\n",
              "        async function convertToInteractive(key) {\n",
              "          const element = document.querySelector('#df-ef58267d-5188-4b8d-92c2-00b11668c98b');\n",
              "          const dataTable =\n",
              "            await google.colab.kernel.invokeFunction('convertToInteractive',\n",
              "                                                     [key], {});\n",
              "          if (!dataTable) return;\n",
              "\n",
              "          const docLinkHtml = 'Like what you see? Visit the ' +\n",
              "            '<a target=\"_blank\" href=https://colab.research.google.com/notebooks/data_table.ipynb>data table notebook</a>'\n",
              "            + ' to learn more about interactive tables.';\n",
              "          element.innerHTML = '';\n",
              "          dataTable['output_type'] = 'display_data';\n",
              "          await google.colab.output.renderOutput(dataTable, element);\n",
              "          const docLink = document.createElement('div');\n",
              "          docLink.innerHTML = docLinkHtml;\n",
              "          element.appendChild(docLink);\n",
              "        }\n",
              "      </script>\n",
              "    </div>\n",
              "  </div>\n",
              "  "
            ]
          },
          "metadata": {}
        }
      ]
    },
    {
      "cell_type": "markdown",
      "source": [
        "Podemos observar en los resultados del modelo que se ha obtenido un buen resultado ya que los valores de las métricas y de la función de pérdida obtenidos en test son muy próximos a los valores obtenidos en entrenamiento y en validación y por tanto se ha conseguido generalizar el problema y obtener buenos resultados ajustando modelo y eligiendo los parámetros correctos. Para evaluar el modelo a partir de estos resultados es necesario tener en consideración que los modelos que hemos implementado son lineales y por tanto están más limitados a la hora de ajustarse al conjunto de muestras de entrenamiento que otros modelos más potentes como los modelos no lineales que podrían obtener mejores resultados en entrenamiento. Si no se ha podido obtener un mejor resultado que este puede ser por las limitaciones de los modelos lineales y no necesariamente por haber ajustado y generalizado el problema de forma incorrecta."
      ],
      "metadata": {
        "id": "8m1A9zowHDGj"
      }
    },
    {
      "cell_type": "markdown",
      "source": [
        "#### <font color='blue'>8)  Construya las curvas de aprendizaje del modelo, y discuta la calidad del ajuste obtenido a la vista de la conducta de dichas curvas. 0.5 puntos."
      ],
      "metadata": {
        "id": "3R044TTvg9Zf"
      }
    },
    {
      "cell_type": "markdown",
      "source": [
        "Voy a crear las curvas de aprendizaje del modelo elegido separando de nuevo el conjunto de entrenamiento en un nuevo conjunto de validación del 20% y otro conjunto de entrenamiento del 80%, de forma parecida a como se hizo con el conjunto total de datos. Después voy a entrenar el modelo con un conjunto de datos inicialmente pequeño y obtengo el error de validación junto con el de entrenamiento, y cada iteración repito lo mismo pero con un sunconjunto de datos mayor obtenido del conjunto de entrenamiento hasta utilizar el conjunto de datos total. Finalmente se crear las curvas de los errores $E_{in}$ de entrenamiento y $E_{out}$ estimado a partid del error obtenido del conjunto de validación."
      ],
      "metadata": {
        "id": "vsbn-BmXJTYc"
      }
    },
    {
      "cell_type": "code",
      "source": [
        "\n",
        "max_iters = 10000\n",
        "C=1\n",
        "class_weight_val ={0: 1, 1: 6}\n",
        "\n",
        "# Crear el modelo de SVM con kernel lineal con los parámetros elegidos\n",
        "SVC_modelo_Curvas = SVC(\n",
        "  kernel='linear', # Tipo del kernel, utilizamos lineal para que el modelo sea lineal\n",
        "  max_iter = max_iters, #número máximo de iteraciones\n",
        "  random_state=1, # Establecer semilla para los numero aleatorios generados para\n",
        "  C = C, # parametro de reularización\n",
        "  tol = 1e-3, # tolerancia del criterio de parada por defecto\n",
        "  class_weight=class_weight_val # Determina los pesos de las clases\n",
        "  )\n",
        "\n",
        "trainPortion = 0.8 #porcentaje de train, el porcentaje de validacion será la resta de 1 menos el porcentaje de train\n",
        "\n",
        "indexesData = np.arange(len(trainY)) #Indices del conjunto de muestras\n",
        "\n",
        "np.random.shuffle(indexesData) #Desordenar indices de las muestras\n",
        "numberTrain = round(len(indexesData)*trainPortion) #numero de muestras para train\n",
        "trainIndexes = indexesData[:numberTrain]\n",
        "valIndexes = indexesData[numberTrain:]\n",
        "\n",
        "E_in = []\n",
        "E_out = []\n",
        "ejeX = []\n",
        "numiters = 50\n",
        "for i in range(1,numiters):\n",
        "  ejeX.append(i*len(trainIndexes)//numiters)\n",
        "  # Entrenar el modelo con los datos de entrenamiento\n",
        "  SVC_modelo_Curvas.fit(preproc_trainX[trainIndexes[:i*len(trainIndexes)//numiters]], trainY[trainIndexes[:i*len(trainIndexes)//numiters]])\n",
        "  # Obtener error en entrenamiento\n",
        "  y_pred = SVC_modelo_Curvas.predict(preproc_trainX[trainIndexes[:i*len(trainIndexes)//numiters]])\n",
        "  E_in.append(hinge_loss(trainY[trainIndexes[:i*len(trainIndexes)//numiters]], y_pred))\n",
        "  # Obtener error en validación\n",
        "  y_pred = SVC_modelo_Curvas.predict(preproc_trainX[valIndexes])\n",
        "  E_out.append(hinge_loss(trainY[valIndexes], y_pred))\n",
        "\n",
        "\n",
        "plt.figure()\n",
        "plt.title(\"Curvas de Aprendizaje\")\n",
        "plt.xlabel(\"Tamaño del conjunto de entrenamiento\")\n",
        "plt.ylabel(\"Error (función de pérdida SVM hinge)\")\n",
        "plt.plot(ejeX, E_out, 'r',label=r'$E_{out}$')\n",
        "plt.plot(ejeX, E_in, 'b',label=r'$E_{in}$')\n",
        "\n",
        "plt.legend(fontsize = 12) # poner el tamaño de la leyenda como en el resultado dado\n",
        "plt.grid(visible=True,linewidth=0.2) # poner la cuadricula con el grosor del resultado dado\n",
        "\n",
        "plt.show()"
      ],
      "metadata": {
        "colab": {
          "base_uri": "https://localhost:8080/",
          "height": 472
        },
        "outputId": "139e7ff3-3786-4e17-a8a4-3b5889b17e33",
        "id": "00subrZC8_XB"
      },
      "execution_count": null,
      "outputs": [
        {
          "output_type": "display_data",
          "data": {
            "text/plain": [
              "<Figure size 640x480 with 1 Axes>"
            ],
            "image/png": "[encoded data removed]"
          },
          "metadata": {}
        }
      ]
    },
    {
      "cell_type": "markdown",
      "source": [
        "Podemos observar en el gráfico de las curvas de aprendizaje que el modelo se comporta de forma correcta ajustandose al problema y obteniendo una buena generalización a medida que aumenta el tamaño del conjunto de muestras. Cuantos más datos se usan para entrenar el modelo, más generalización se consigue (al tener más información del problema y de la función objetivo) y por tanto el error $E_{out}$ se acerca cada vez más al error $E_{in}$. El modelo lineal es capaz de ajustar mejor los datos cuanto menos haya, ya que al haber menos datos, el modelo tiene que predecir menos muestras y entonces puede ajustarse mejor a una cantidad menor de datos, por lo tanto el error $E_{in}$ aumenta con el tamaño del conjunto de entrenamiento. Por otro lado, cuantos más muestras se tienen, más información se tiene del problema y por tanto se puede obtener una mayor generalización de la función objetivo obteniendo un error $E_{out}$ menor a medida que aumenta el tamaño del conjunto de muestras. Es por esto que los errores $E_{in}$ y $E_{out}$ tienden a acercarse y converger a medida que aumenta el tamaño del conjunto de entrenamiento.   \n",
        "A partir de estos resultados, podemos establecer que, aunque seguramente no sea el modelo con el que se obtienen los mejores resultados, ya que los modelos no lineales son más potentes, este modelo ha conseguido ajustarse en cierta medida al problema y aprender cierta variabilidad consiguiendo generalizar el resultado obtenido fuera del entrenamiento. Esto se puede observar principalmente en la disminución del error $E_{out}$ a medida que aumenta el tamaño del conjunto de entrenamiento, ya que cuanta más información se le ofrece al modelo para entrenar, mejoes resultados y error $E_{out}$ obtiene y por tanto más aprende."
      ],
      "metadata": {
        "id": "snfIDa9nVGR-"
      }
    },
    {
      "cell_type": "markdown",
      "source": [
        "#### <font color='blue'>9)  Suponga ahora que Ud. debe realizar este ajuste para una empresa que le ha proporcionado los datos, sin distinción entre training y test. ¿Cúal sería el mejor modelo que les propondría, y qué error  $E_{out}$ les diría que tiene? Justifique todas las decisiones. 0.5 puntos."
      ],
      "metadata": {
        "id": "E_x9IPmEg_RX"
      }
    },
    {
      "cell_type": "markdown",
      "source": [
        "Tal y como he realizado en esta práctica, realizaría los siguientes pasos:\n",
        "\n",
        "\n",
        "1.   Separar el conjunto de datos en una parte de entrenameinto y otra de test\n",
        "2.   Analizar el problema observando de donde proceden los datos, que variables se utilizan y de que tipo, como se han extraido los datos y elegir los modelos que se pretenden usar para ajustar este problema específico.\n",
        "3.   Analizar el conjunto de datos de training para tratar de encontrar variables constantes, desequilibrio en las clases y cualquier peculiaridad más del conjunto de entrenamiento.\n",
        "4.   Preprocesar los datos codificando las varaibles que sean necesarias como las categóricas, escalar los datos y aplicar cualquier procesamiento necesario al conjutno de datos.\n",
        "5.   Establecer la técnica de Validación cruzada eligiendo el número de particiones si los datos son suficientes como para permitirlo.\n",
        "6.   Establecer las métrcias que son necesarias dependiendo del conjunto de datos y los hiperparámetros que se van a escoger experimentalmente junto con la regularización elegida para el conjutno de datos en concreto.\n",
        "7.   Realiza la técnica de Validación cruzada para elegir los hiperparámetros de los modelos y evaluar los resultados para obtener la mejor hipótesis final para el problema.\n",
        "8.   Estimar el error  $E_{out}$ a partir del conjunto de test y evaluar los resultados obtenidos finales. Este modelo sería el modelo que se porpondría a la empresa junto con el error $E_{out}$ estimado a partir del error $E_{test}$.\n",
        "\n",
        "Durante los apartados anteriores he explicado los motivos que me han llevado a tomar cada decisión justificando las ventajas y desventajas de realizar cada paso.\n",
        "\n",
        "\n",
        "\n",
        "El error $E_{out}$ sería una estimación de este error a partir del error $E_{test}$ obtenido mediante el conjunto de test que he separado de los datos que me ofrece la empresa. Por lo tanto el error $E_{out}$ sería el error $E_{test}$ que obtengo a partir de mi modelo final que he elegido como mejor modelo. Este estimador del error $E_{out}$ es el mejor estimador debido a la teoría de la dimensión de Vapink-Chervonenkis junto con la teoría desarrollada en torno a la desigualdad de Hoeffding que ofrecen unas cotas del error $E_{out}$ en torno a los valores que se pueden obtener de los errores $E_{test}$ y $E_{in}$. Sin embargo, el uso de un conjunto de test implica un entrenamiento del modelo con un conjunto de datos menor, lo que afectará a la generalización y ajuste del prblema y por lo tanto a los resultados obtenidos. Cuanto mayor sea el conjunto de test, mejor será la estimación del error $E_{out}$ y peores resultado de entrenameinto se obtendrán, es por eso que se debe elgir un equilibrio entre una mejor estimación y un entrenamiento mejor.  \n",
        "\n",
        "En algunos casos, si los datos son escasos o se considera que no son suficientes, se podría utilizar todo el conjunto de datos como entrenamiento y estimar el error $E_{out}$ a partir del error $E_{in}$ del entrenamiento. Este es el caso extremo de obtener un peor estimador pero entrenar con un conjunto mayor de datos puede dar lugar a obtener mejores resultados en el ajuste del modelo.\n",
        "\n",
        "Esto ocurre también con Cross-Validation donde se utiliza una parte del conjunto de entrenamiento para validar y obtener una estimación del error del modelo. Al realizar diversas particiones y estimar con un conjunto de validación distinto cada vez se puede obtener un buen estimador del error realizando el promerdio de todas las particiones pero esto conlleva un aumento del coste computacional a parteque puede dificultar el proceso de aprendizaje del modelo.\n",
        "\n",
        "En el problema que se ha tratado de resolver mediante aprendizaje automático en los apartados anteriores, he explicado cuál era el mejor modelo que se ha conseguido obtener y yo propondría ese modelo para resolver este problema con el error $E_{out}$ que se ha estimado a partir del error $E_{test}$. Si además se disponde del conjunto de test, yo, personalmente, ofrecería como error del modelo el error $E_{test}$ obtenido a partir del modelo entrenado con los datos de entrenamiento, y después volvería a entrenar el modelo con el conjunto total de los datos (test incluido) y ofrecería ese modelo como modelo final. Como este modelo ha sido entrenado con una cantidad mayor de datos, el error proprocionado $E_{test}$ será una cota superior del error $E_{out}$ del modelo final y por tanto el error ofrecido será pesimista. Si por el contrario no se disponde del conjunto de test y la empresa se encarga de realiza el test conotro conjunto de datos, aun así del conjunto que se disponde crearía mis propias particiones como se ha comentado antes en entrenameinto y test y se haría el mismo proceso siguiendo los pasos."
      ],
      "metadata": {
        "id": "ne9xMXuEXy79"
      }
    }
  ]
}